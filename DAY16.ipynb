{
 "cells": [
  {
   "cell_type": "code",
   "execution_count": 2,
   "id": "15371eb8",
   "metadata": {},
   "outputs": [
    {
     "name": "stdout",
     "output_type": "stream",
     "text": [
      "1 2\n",
      "2 3\n",
      "3 5\n"
     ]
    },
    {
     "data": {
      "text/plain": [
       "3"
      ]
     },
     "execution_count": 2,
     "metadata": {},
     "output_type": "execute_result"
    }
   ],
   "source": [
    "# Fibonacci\n",
    "\n",
    "# 1 일반적인 방법\n",
    "\n",
    "#n번째의 피보나치 수열 값을 구하는 함수\n",
    "def fib(n):\n",
    "    a,b=1,1 #변수 초기화\n",
    "    if n==1 or n==2: #1,2 번째는 모두 값이\n",
    "        return 1 #1로 리턴\n",
    "    for i in range(1,n): #1번째부터 n번째 까지\n",
    "        a,b=b,a+b\n",
    "        print(a,b)\n",
    "    return a\n",
    "\n",
    "fib(4)"
   ]
  },
  {
   "cell_type": "code",
   "execution_count": 3,
   "id": "ae7cc937",
   "metadata": {},
   "outputs": [
    {
     "data": {
      "text/plain": [
       "5"
      ]
     },
     "execution_count": 3,
     "metadata": {},
     "output_type": "execute_result"
    }
   ],
   "source": [
    "#2 재귀\n",
    "\n",
    "\n",
    "def fib(n):#n번째의 피보나치 수열 값을 구하는 함수\n",
    "    a,b=1,1 #변수 초기화\n",
    "    if n==1 or n==2: #1,2 번째는 모두 값이\n",
    "        return 1 #1로 리턴\n",
    "    else:\n",
    "        return fib(n-1)+fib(n-2)\n",
    "\n",
    "fib(5)"
   ]
  },
  {
   "cell_type": "code",
   "execution_count": null,
   "id": "82739954",
   "metadata": {},
   "outputs": [],
   "source": []
  },
  {
   "cell_type": "code",
   "execution_count": 21,
   "id": "60f77412",
   "metadata": {},
   "outputs": [
    {
     "name": "stdout",
     "output_type": "stream",
     "text": [
      "num?= 1\n"
     ]
    },
    {
     "data": {
      "text/plain": [
       "[1]"
      ]
     },
     "execution_count": 21,
     "metadata": {},
     "output_type": "execute_result"
    }
   ],
   "source": [
    "#피보나치 수열의 값을 n번째까지 리스트로 전부 출력하세요\n",
    "\n",
    "def fib(n):\n",
    "    a,b=1,1 #변수 초기화\n",
    "    list=[1]\n",
    "    \n",
    "    if n==1:\n",
    "        return list\n",
    "    elif n==2: #1,2 번째는 모두 값이\n",
    "        list.append(1)\n",
    "        return list #1로 리턴\n",
    "    for i in range(1,n): #1번째부터 n번째 까지\n",
    "        a,b=b,a+b\n",
    "        list.append(a)\n",
    "    return list\n",
    "\n",
    " \n",
    "n=int(input('num?= '))     \n",
    "fib(n)\n",
    "\n"
   ]
  },
  {
   "cell_type": "code",
   "execution_count": 17,
   "id": "10a397e0",
   "metadata": {},
   "outputs": [
    {
     "name": "stdout",
     "output_type": "stream",
     "text": [
      "[1, 1, 2, 3, 5, 8]\n"
     ]
    }
   ],
   "source": [
    "# 21신창균에서 나에게 (DM) 03:45 PM\n",
    "def fib(n) : # n 번째의 피보나치 수열 값을 찾는 함수 \n",
    "\n",
    "  fib_list = []\n",
    "  a, b = 1, 1\n",
    "\n",
    "  for i in range(1, n+1) : # 1번째부터 n번째 까지\n",
    "\n",
    "    fib_list.append(a)\n",
    "\n",
    "    a, b = b, a + b\n",
    "\n",
    "  print(fib_list)\n",
    "\n",
    "fib(6)"
   ]
  },
  {
   "cell_type": "code",
   "execution_count": null,
   "id": "00cb60a5",
   "metadata": {},
   "outputs": [],
   "source": []
  },
  {
   "cell_type": "code",
   "execution_count": null,
   "id": "1137656c",
   "metadata": {},
   "outputs": [],
   "source": [
    "#2D lists 2차원 리스트"
   ]
  },
  {
   "cell_type": "code",
   "execution_count": null,
   "id": "4db1526c",
   "metadata": {},
   "outputs": [],
   "source": []
  },
  {
   "cell_type": "code",
   "execution_count": null,
   "id": "b142ff1e",
   "metadata": {},
   "outputs": [],
   "source": []
  },
  {
   "cell_type": "code",
   "execution_count": null,
   "id": "85ff59a7",
   "metadata": {},
   "outputs": [],
   "source": []
  },
  {
   "cell_type": "code",
   "execution_count": null,
   "id": "553e1fcb",
   "metadata": {},
   "outputs": [],
   "source": []
  },
  {
   "cell_type": "code",
   "execution_count": null,
   "id": "d54eb94a",
   "metadata": {},
   "outputs": [],
   "source": []
  },
  {
   "cell_type": "code",
   "execution_count": null,
   "id": "530819b8",
   "metadata": {},
   "outputs": [],
   "source": []
  },
  {
   "cell_type": "code",
   "execution_count": null,
   "id": "e9902a15",
   "metadata": {},
   "outputs": [],
   "source": []
  },
  {
   "cell_type": "code",
   "execution_count": null,
   "id": "a4c26ea4",
   "metadata": {},
   "outputs": [],
   "source": []
  },
  {
   "cell_type": "code",
   "execution_count": null,
   "id": "f4f4d73b",
   "metadata": {},
   "outputs": [],
   "source": []
  },
  {
   "cell_type": "code",
   "execution_count": null,
   "id": "13ed0d59",
   "metadata": {},
   "outputs": [],
   "source": []
  },
  {
   "cell_type": "code",
   "execution_count": null,
   "id": "c095b488",
   "metadata": {},
   "outputs": [],
   "source": []
  },
  {
   "cell_type": "code",
   "execution_count": null,
   "id": "0d3b963c",
   "metadata": {},
   "outputs": [],
   "source": []
  },
  {
   "cell_type": "code",
   "execution_count": null,
   "id": "3cb7cbbc",
   "metadata": {},
   "outputs": [],
   "source": []
  },
  {
   "cell_type": "code",
   "execution_count": null,
   "id": "274483dd",
   "metadata": {},
   "outputs": [],
   "source": []
  }
 ],
 "metadata": {
  "kernelspec": {
   "display_name": "Python 3 (ipykernel)",
   "language": "python",
   "name": "python3"
  },
  "language_info": {
   "codemirror_mode": {
    "name": "ipython",
    "version": 3
   },
   "file_extension": ".py",
   "mimetype": "text/x-python",
   "name": "python",
   "nbconvert_exporter": "python",
   "pygments_lexer": "ipython3",
   "version": "3.9.7"
  }
 },
 "nbformat": 4,
 "nbformat_minor": 5
}
