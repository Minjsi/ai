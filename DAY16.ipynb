{
 "cells": [
  {
   "cell_type": "code",
   "execution_count": 2,
   "id": "93efbd45",
   "metadata": {},
   "outputs": [
    {
     "name": "stdout",
     "output_type": "stream",
     "text": [
      "1 2\n",
      "2 3\n",
      "3 5\n"
     ]
    },
    {
     "data": {
      "text/plain": [
       "3"
      ]
     },
     "execution_count": 2,
     "metadata": {},
     "output_type": "execute_result"
    }
   ],
   "source": [
    "# Fibonacci\n",
    "\n",
    "# 1 일반적인 방법\n",
    "\n",
    "#n번째의 피보나치 수열 값을 구하는 함수\n",
    "def fib(n):\n",
    "    a,b=1,1 #변수 초기화\n",
    "    if n==1 or n==2: #1,2 번째는 모두 값이\n",
    "        return 1 #1로 리턴\n",
    "    for i in range(1,n): #1번째부터 n번째 까지\n",
    "        a,b=b,a+b\n",
    "        print(a,b)\n",
    "    return a\n",
    "\n",
    "fib(4)"
   ]
  },
  {
   "cell_type": "code",
   "execution_count": 3,
   "id": "cafe20ac",
   "metadata": {},
   "outputs": [
    {
     "data": {
      "text/plain": [
       "5"
      ]
     },
     "execution_count": 3,
     "metadata": {},
     "output_type": "execute_result"
    }
   ],
   "source": [
    "#2 재귀\n",
    "\n",
    "\n",
    "def fib(n):#n번째의 피보나치 수열 값을 구하는 함수\n",
    "    a,b=1,1 #변수 초기화\n",
    "    if n==1 or n==2: #1,2 번째는 모두 값이\n",
    "        return 1 #1로 리턴\n",
    "    else:\n",
    "        return fib(n-1)+fib(n-2)\n",
    "\n",
    "fib(5)"
   ]
  },
  {
   "cell_type": "code",
   "execution_count": null,
   "id": "4838e8e4",
   "metadata": {},
   "outputs": [],
   "source": []
  },
  {
   "cell_type": "code",
   "execution_count": 21,
   "id": "2e5eecc2",
   "metadata": {},
   "outputs": [
    {
     "name": "stdout",
     "output_type": "stream",
     "text": [
      "num?= 1\n"
     ]
    },
    {
     "data": {
      "text/plain": [
       "[1]"
      ]
     },
     "execution_count": 21,
     "metadata": {},
     "output_type": "execute_result"
    }
   ],
   "source": [
    "#피보나치 수열의 값을 n번째까지 리스트로 전부 출력하세요\n",
    "\n",
    "def fib(n):\n",
    "    a,b=1,1 #변수 초기화\n",
    "    list=[1]\n",
    "    \n",
    "    if n==1:\n",
    "        return list\n",
    "    elif n==2: #1,2 번째는 모두 값이\n",
    "        list.append(1)\n",
    "        return list #1로 리턴\n",
    "    for i in range(1,n): #1번째부터 n번째 까지\n",
    "        a,b=b,a+b\n",
    "        list.append(a)\n",
    "    return list\n",
    "\n",
    " \n",
    "n=int(input('num?= '))     \n",
    "fib(n)\n",
    "\n"
   ]
  },
  {
   "cell_type": "code",
   "execution_count": 17,
   "id": "aa971bb6",
   "metadata": {},
   "outputs": [
    {
     "name": "stdout",
     "output_type": "stream",
     "text": [
      "[1, 1, 2, 3, 5, 8]\n"
     ]
    }
   ],
   "source": [
    "# 21신창균에서 나에게 (DM) 03:45 PM\n",
    "def fib(n) : # n 번째의 피보나치 수열 값을 찾는 함수 \n",
    "\n",
    "  fib_list = []\n",
    "  a, b = 1, 1\n",
    "\n",
    "  for i in range(1, n+1) : # 1번째부터 n번째 까지\n",
    "\n",
    "    fib_list.append(a)\n",
    "\n",
    "    a, b = b, a + b\n",
    "\n",
    "  print(fib_list)\n",
    "\n",
    "fib(6)"
   ]
  },
  {
   "cell_type": "code",
   "execution_count": null,
   "id": "20879d55",
   "metadata": {},
   "outputs": [],
   "source": []
  },
  {
   "cell_type": "code",
   "execution_count": 22,
   "id": "ae9be86b",
   "metadata": {},
   "outputs": [
    {
     "data": {
      "text/plain": [
       "100"
      ]
     },
     "execution_count": 22,
     "metadata": {},
     "output_type": "execute_result"
    }
   ],
   "source": [
    "# 2D lists  2차원 리스트   #   VS  pandas 's dataframe\n",
    "#               math    korean \n",
    "# austin        90        80\n",
    "# rick           80        85\n",
    "# andy         100      70\n",
    "\n",
    "grade = [[90,80],[80,85],[100,70]]\n",
    "\n",
    "grade[2][0]"
   ]
  },
  {
   "cell_type": "code",
   "execution_count": 29,
   "id": "6a15262a",
   "metadata": {},
   "outputs": [
    {
     "name": "stdout",
     "output_type": "stream",
     "text": [
      "Enter name : a\n",
      "Enter age : 220\n",
      "Enter shoe : b\n",
      "Enter name : 230\n",
      "Enter age : c\n",
      "Enter shoe : 240\n",
      "Enter name : d\n",
      "Enter age : 250\n",
      "Enter shoe : 21\n"
     ]
    },
    {
     "ename": "KeyboardInterrupt",
     "evalue": "Interrupted by user",
     "output_type": "error",
     "traceback": [
      "\u001b[1;31m---------------------------------------------------------------------------\u001b[0m",
      "\u001b[1;31mKeyboardInterrupt\u001b[0m                         Traceback (most recent call last)",
      "\u001b[1;32m~\\AppData\\Local\\Temp/ipykernel_22524/3457790419.py\u001b[0m in \u001b[0;36m<module>\u001b[1;34m\u001b[0m\n\u001b[0;32m      6\u001b[0m \u001b[1;33m\u001b[0m\u001b[0m\n\u001b[0;32m      7\u001b[0m \u001b[1;32mfor\u001b[0m \u001b[0mi\u001b[0m \u001b[1;32min\u001b[0m \u001b[0mrange\u001b[0m\u001b[1;33m(\u001b[0m\u001b[1;36m0\u001b[0m\u001b[1;33m,\u001b[0m\u001b[1;36m4\u001b[0m\u001b[1;33m)\u001b[0m\u001b[1;33m:\u001b[0m\u001b[1;33m\u001b[0m\u001b[1;33m\u001b[0m\u001b[0m\n\u001b[1;32m----> 8\u001b[1;33m   \u001b[0mname\u001b[0m \u001b[1;33m=\u001b[0m \u001b[0minput\u001b[0m\u001b[1;33m(\u001b[0m\u001b[1;34m'Enter name : '\u001b[0m\u001b[1;33m)\u001b[0m\u001b[1;33m\u001b[0m\u001b[1;33m\u001b[0m\u001b[0m\n\u001b[0m\u001b[0;32m      9\u001b[0m   \u001b[0mage\u001b[0m \u001b[1;33m=\u001b[0m \u001b[0minput\u001b[0m\u001b[1;33m(\u001b[0m\u001b[1;34m'Enter age : '\u001b[0m\u001b[1;33m)\u001b[0m\u001b[1;33m\u001b[0m\u001b[1;33m\u001b[0m\u001b[0m\n\u001b[0;32m     10\u001b[0m   \u001b[0mshoe\u001b[0m \u001b[1;33m=\u001b[0m \u001b[0minput\u001b[0m\u001b[1;33m(\u001b[0m\u001b[1;34m'Enter shoe : '\u001b[0m\u001b[1;33m)\u001b[0m\u001b[1;33m\u001b[0m\u001b[1;33m\u001b[0m\u001b[0m\n",
      "\u001b[1;32mC:\\ProgramData\\Anaconda3\\lib\\site-packages\\ipykernel\\kernelbase.py\u001b[0m in \u001b[0;36mraw_input\u001b[1;34m(self, prompt)\u001b[0m\n\u001b[0;32m   1004\u001b[0m                 \u001b[1;34m\"raw_input was called, but this frontend does not support input requests.\"\u001b[0m\u001b[1;33m\u001b[0m\u001b[1;33m\u001b[0m\u001b[0m\n\u001b[0;32m   1005\u001b[0m             )\n\u001b[1;32m-> 1006\u001b[1;33m         return self._input_request(\n\u001b[0m\u001b[0;32m   1007\u001b[0m             \u001b[0mstr\u001b[0m\u001b[1;33m(\u001b[0m\u001b[0mprompt\u001b[0m\u001b[1;33m)\u001b[0m\u001b[1;33m,\u001b[0m\u001b[1;33m\u001b[0m\u001b[1;33m\u001b[0m\u001b[0m\n\u001b[0;32m   1008\u001b[0m             \u001b[0mself\u001b[0m\u001b[1;33m.\u001b[0m\u001b[0m_parent_ident\u001b[0m\u001b[1;33m[\u001b[0m\u001b[1;34m\"shell\"\u001b[0m\u001b[1;33m]\u001b[0m\u001b[1;33m,\u001b[0m\u001b[1;33m\u001b[0m\u001b[1;33m\u001b[0m\u001b[0m\n",
      "\u001b[1;32mC:\\ProgramData\\Anaconda3\\lib\\site-packages\\ipykernel\\kernelbase.py\u001b[0m in \u001b[0;36m_input_request\u001b[1;34m(self, prompt, ident, parent, password)\u001b[0m\n\u001b[0;32m   1049\u001b[0m             \u001b[1;32mexcept\u001b[0m \u001b[0mKeyboardInterrupt\u001b[0m\u001b[1;33m:\u001b[0m\u001b[1;33m\u001b[0m\u001b[1;33m\u001b[0m\u001b[0m\n\u001b[0;32m   1050\u001b[0m                 \u001b[1;31m# re-raise KeyboardInterrupt, to truncate traceback\u001b[0m\u001b[1;33m\u001b[0m\u001b[1;33m\u001b[0m\u001b[0m\n\u001b[1;32m-> 1051\u001b[1;33m                 \u001b[1;32mraise\u001b[0m \u001b[0mKeyboardInterrupt\u001b[0m\u001b[1;33m(\u001b[0m\u001b[1;34m\"Interrupted by user\"\u001b[0m\u001b[1;33m)\u001b[0m \u001b[1;32mfrom\u001b[0m \u001b[1;32mNone\u001b[0m\u001b[1;33m\u001b[0m\u001b[1;33m\u001b[0m\u001b[0m\n\u001b[0m\u001b[0;32m   1052\u001b[0m             \u001b[1;32mexcept\u001b[0m \u001b[0mException\u001b[0m\u001b[1;33m:\u001b[0m\u001b[1;33m\u001b[0m\u001b[1;33m\u001b[0m\u001b[0m\n\u001b[0;32m   1053\u001b[0m                 \u001b[0mself\u001b[0m\u001b[1;33m.\u001b[0m\u001b[0mlog\u001b[0m\u001b[1;33m.\u001b[0m\u001b[0mwarning\u001b[0m\u001b[1;33m(\u001b[0m\u001b[1;34m\"Invalid Message:\"\u001b[0m\u001b[1;33m,\u001b[0m \u001b[0mexc_info\u001b[0m\u001b[1;33m=\u001b[0m\u001b[1;32mTrue\u001b[0m\u001b[1;33m)\u001b[0m\u001b[1;33m\u001b[0m\u001b[1;33m\u001b[0m\u001b[0m\n",
      "\u001b[1;31mKeyboardInterrupt\u001b[0m: Interrupted by user"
     ]
    }
   ],
   "source": [
    "# Ask the user to enter the name, age and shoe size for four people.\n",
    "# Ask for the name of one of the people in the list and\n",
    "# display their age and shoe size.\n",
    "\n",
    "dict = {}\n",
    "\n",
    "for i in range(0,4):\n",
    "  name = input('Enter name : ')\n",
    "  age = input('Enter age : ')\n",
    "  shoe = input('Enter shoe : ')\n",
    "  dict[name]={'Age':age,'Shoe':shoe}\n",
    "\n",
    "who = input('Enter a name : ')\n",
    "print(dict[who])"
   ]
  },
  {
   "cell_type": "code",
   "execution_count": 32,
   "id": "7e55836a",
   "metadata": {},
   "outputs": [
    {
     "name": "stdout",
     "output_type": "stream",
     "text": [
      "Enter name : a\n",
      "Enter age : 24\n",
      "Enter shoe : 150\n",
      "Enter name : b\n",
      "Enter age : 14\n",
      "Enter shoe : 250\n",
      "Who do you want to remove from the dict? a\n",
      "b 14 250\n"
     ]
    }
   ],
   "source": [
    "# After gathering the four names, ages and shoe sizes, \n",
    "# ask the user to enter the name of the person they want to remove from the dict.\n",
    "# Delete this row from the data and display the other rows on separate lines.\n",
    "\n",
    "dict = {}\n",
    "\n",
    "for i in range(0,2):\n",
    "  name = input('Enter name : ')\n",
    "  age = input('Enter age : ')\n",
    "  shoe = input('Enter shoe : ')\n",
    "  dict[name]={'Age':age,'Shoe':shoe}\n",
    "\n",
    "getrid= input('Who do you want to remove from the dict? ')\n",
    "del dict[getrid]\n",
    "\n",
    "for each in dict:\n",
    "    print(each, dict[each]['Age'],dict[each]['Shoe'])"
   ]
  },
  {
   "cell_type": "code",
   "execution_count": 36,
   "id": "6b748881",
   "metadata": {},
   "outputs": [],
   "source": [
    "#Reading and Writing to a File\n",
    "\n",
    "#It is all very well being able to define a list,make changes and add new data,\n",
    "#but if the next time the program is run it returns to the original data and your\n",
    "#changes are lost then it is not a lot of use. therefore, it is sometimes necessary\n",
    "#to save the data outside of the program and this way the data can be stored.\n",
    "#along with any changes that are made\n",
    "\n",
    "\n",
    "file = open('Countries.txt','w')\n",
    "file.write('ltaly\\n')\n",
    "file.write('Germany\\n')\n",
    "file.write('Spain\\n')\n",
    "file.close()"
   ]
  },
  {
   "cell_type": "code",
   "execution_count": 39,
   "id": "1e8254b5",
   "metadata": {},
   "outputs": [
    {
     "name": "stdout",
     "output_type": "stream",
     "text": [
      "ltaly\n",
      "Germany\n",
      "Spain\n",
      "France\n",
      "\n"
     ]
    }
   ],
   "source": [
    "file=open('Countries.txt','r')\n",
    "print(file.read())"
   ]
  },
  {
   "cell_type": "code",
   "execution_count": 38,
   "id": "5c815da5",
   "metadata": {},
   "outputs": [],
   "source": [
    "file = open('Countries.txt','a')\n",
    "file.write('France\\n')\n",
    "file.close()"
   ]
  },
  {
   "cell_type": "code",
   "execution_count": null,
   "id": "a9cb26ff",
   "metadata": {},
   "outputs": [],
   "source": [
    "# Display the following menu to the user:\n",
    "#      1) Create a new file\n",
    "#      2) Display the file\n",
    "#      3) Add a new item to the file\n",
    "#      Make a selection 1,2 or 3 :\n",
    "\n",
    "# Ask the user to enter 1,2 or 3. If they select anything other than 1,2 or 3 it should\n",
    "# display a suitable error message.\n",
    "\n",
    "# If the select 1, ask the user to enter a school subject and save it to a new file called\n",
    "# 'Subject.txt'. It should overwrite any existing file with a new file.\n",
    "\n",
    "# If they select 2, display the contents of the 'Subject.txt' file\n",
    "\n",
    "# if they select 3, ask the user to enter a new subject and sav e it to the file \n",
    "#and then display the entire contents of the file.\n",
    "\n",
    "# Run the program several times to test the options.\n",
    "\n",
    "##############################################################\n",
    "# Fantastic work, saving data to external files is an important programming skill. #\n",
    "##############################################################\n",
    "\n",
    "# Delete file\n",
    "# import os\n",
    "# os.remove('filename.txt')"
   ]
  },
  {
   "cell_type": "code",
   "execution_count": null,
   "id": "d9dc84e2",
   "metadata": {},
   "outputs": [
    {
     "name": "stdout",
     "output_type": "stream",
     "text": [
      "1) Create a new file \n",
      " 2) Display the file \n",
      " 3) Add a new item to the file\n",
      "enter a number>> 1\n",
      "enter a subject >> math\n",
      "\n",
      "1) Create a new file \n",
      " 2) Display the file \n",
      " 3) Add a new item to the file\n",
      "enter a number>> 3\n",
      "enter a subject >> kor\n",
      "\n",
      "1) Create a new file \n",
      " 2) Display the file \n",
      " 3) Add a new item to the file\n",
      "enter a number>> 2\n",
      "mathkor\n",
      "\n",
      "1) Create a new file \n",
      " 2) Display the file \n",
      " 3) Add a new item to the file\n"
     ]
    }
   ],
   "source": [
    "\n",
    "\n",
    "while 1:\n",
    "    print('1) Create a new file \\n 2) Display the file \\n 3) Add a new item to the file')\n",
    "\n",
    "    n=int(input('enter a number>> '))\n",
    "    if n==1:\n",
    "        file=open('Subject.txt','w')\n",
    "        file.write(input('enter a subject >> '))\n",
    "        file.\n",
    "        print()\n",
    "    \n",
    "    elif n==2:\n",
    "        file=open('Subject.txt','r')\n",
    "        print(file.read())\n",
    "        print()\n",
    "    \n",
    "    elif n==3:\n",
    "        file = open('Subject.txt','a')\n",
    "        file.write(input('enter a subject >> '))\n",
    "        file.close()\n",
    "        print()\n",
    "    \n",
    "    else :\n",
    "        print('typing is wrong')\n",
    "        "
   ]
  },
  {
   "cell_type": "code",
   "execution_count": null,
   "id": "7866b6ea",
   "metadata": {},
   "outputs": [],
   "source": [
    "while True :\n",
    "  print('----------------------------------')\n",
    "  print('1) Create a new file')\n",
    "  print('2) Display the file')\n",
    "  print('3) Add a new item to the file')\n",
    "  print('----------------------------------')\n",
    "  sel = int(input('Make a selection 1,2, or 3, if you want to quit, enter 4 : ')) # 4를 입력하면 반복 종료\n",
    "  if sel == 1:                                                                    # 1 입력\n",
    "    nf = input('Enter the file name : ')\n",
    "    try:\n",
    "      file = open(f'{nf}.txt','x')                                                # 입력한 이름으로 된 파일 생성, x는 같은 이름의 파일이 있을시 오류\n",
    "      file.close()\n",
    "      print('Complete!')\n",
    "    except:\n",
    "      print('!!!File already exists Please enter another name!!!\\n')              # 오류 발생 시 메세지 출력\n",
    "  elif sel == 2:                                                                  # 2 입력\n",
    "    try:\n",
    "      name = input('Enter the file name : ')\n",
    "      file = open(f'{name}.txt','r')                                              # 입력한 이름의 파일 읽기\n",
    "      print(file.read(),'\\n')\n",
    "    except:\n",
    "      print('!!!File not exists!!!\\n')                                            # 존재하지 않는 파일의 경우 오류 메세지 출력\n",
    "  elif sel == 3:                                                                  # 3 입력                                                                \n",
    "    ask = input('Enter a file name : ')                                           # 파일명 입력\n",
    "    file = open(f'{ask}.txt','a')\n",
    "    todo = input('Enter anything you want to append in file : ')                  # 추가할 내용 입력\n",
    "    file.write(f'{todo}\\n')                                                       # 입력된 내용 파일에 작성\n",
    "    file.close()                                                                  # 파일을 닫아준 뒤\n",
    "    file = open(f'{ask}.txt','r')                                                 # 읽기로 열기\n",
    "    print(file.read(),'\\n')                                                       # 파일 내용 출력\n",
    "  elif sel == 4:                                                                  # 4 입력\n",
    "    print('Bye!')                                                                 # 메세지 출력 후 반복 종료\n",
    "    break\n",
    "  else:\n",
    "    print('Please select 1,2,3 or 4')                                             # 1,2,3,4 이외 입력 시 "
   ]
  },
  {
   "cell_type": "code",
   "execution_count": null,
   "id": "5de48353",
   "metadata": {},
   "outputs": [],
   "source": []
  },
  {
   "cell_type": "code",
   "execution_count": null,
   "id": "92575de9",
   "metadata": {},
   "outputs": [],
   "source": []
  },
  {
   "cell_type": "code",
   "execution_count": null,
   "id": "fb0cdb7d",
   "metadata": {},
   "outputs": [],
   "source": []
  },
  {
   "cell_type": "code",
   "execution_count": null,
   "id": "3c3a27b7",
   "metadata": {},
   "outputs": [],
   "source": []
  },
  {
   "cell_type": "code",
   "execution_count": null,
   "id": "f7409818",
   "metadata": {},
   "outputs": [],
   "source": []
  },
  {
   "cell_type": "code",
   "execution_count": null,
   "id": "7563ac85",
   "metadata": {},
   "outputs": [],
   "source": []
  }
 ],
 "metadata": {
  "kernelspec": {
   "display_name": "Python 3 (ipykernel)",
   "language": "python",
   "name": "python3"
  },
  "language_info": {
   "codemirror_mode": {
    "name": "ipython",
    "version": 3
   },
   "file_extension": ".py",
   "mimetype": "text/x-python",
   "name": "python",
   "nbconvert_exporter": "python",
   "pygments_lexer": "ipython3",
   "version": "3.9.7"
  }
 },
 "nbformat": 4,
 "nbformat_minor": 5
}
