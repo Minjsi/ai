{
  "nbformat": 4,
  "nbformat_minor": 0,
  "metadata": {
    "colab": {
      "name": "day02.ipynb",
      "provenance": [],
      "collapsed_sections": []
    },
    "kernelspec": {
      "name": "python3",
      "display_name": "Python 3"
    },
    "language_info": {
      "name": "python"
    }
  },
  "cells": [
    {
      "cell_type": "code",
      "execution_count": null,
      "metadata": {
        "colab": {
          "base_uri": "https://localhost:8080/"
        },
        "id": "WlUf9juCt4c_",
        "outputId": "8cff3ae7-3c68-4834-e9e3-6fd962fc95aa"
      },
      "outputs": [
        {
          "output_type": "stream",
          "name": "stdout",
          "text": [
            "Hello world\n"
          ]
        }
      ],
      "source": [
        "###############################################################\n",
        "#Reiew\n",
        "################################################################\n",
        "\n",
        "# Cmment 주석 - 코드에 대한 설명, 컴퓨터는 읽지 않고 사람만 읽는 내용\n",
        "#               또 다른 용법으로는 코드를 임시로 실행 않고 감춘 후 에러 확인 용도\n",
        "#               본인이 기록한 내용을 나중에 확인할 때 또는 다른 팀원이 \n",
        "#               작성한 내용을 파악하기 용이\n",
        "# #을 사용하여 주석을 표시\n",
        "\n",
        "#주석 만드는 방법\n",
        "# doc string(주석의 용도로도 쓰이는 것/ 홑따옴표 쌍따옴표 둘다가능)\n",
        "'''\n",
        "작성일 : 2022.01.26\n",
        "담당자 : 홍길동\n",
        "비고 : alswltn09@naver.com\n",
        "'''\n",
        "# 드래그 후 ctrl+/ =>주석처리\n",
        "\n",
        "print('Hello world') # 주석은 코드의 우측 또는 코드의 윗줄에 적는다\n"
      ]
    },
    {
      "cell_type": "code",
      "source": [
        "# 변수 Variable\n",
        "# 어떤 값을 저장하는 저장소(a-)\n",
        "a=100\n",
        "print(a)\n",
        "\n",
        "stumath =350 #의미를 담은 변수명 생성\n",
        "stu_math=350 #가독성을 위한 _이용 스네이크 케이스 snake_case\n",
        "StuMathSum=350 #캐밀케이스 camelCase\n",
        "\n",
        "#a = 100\n",
        "#_a =100\n",
        "#@a=100  > X\n",
        "#한글 변수명 사용이 가능하지만 쓰지 말자\n",
        "\n",
        "# 인덱싱 (슬라이싱) 문자열에서 해당 배열의 문자 뽑아내기\n",
        "\n",
        "s= 'world'\n",
        "print(s[2]) # 파이썬은 인덱스 시작이 0이다\n",
        "print(s[-1]) # -1은 마지막 인덱스를 가리킨다.\n",
        "\n",
        "ss= '980801-2245417'\n",
        "print(ss[7]) # 하나만 추출할 떄 indexing\n",
        "addr='서울시 강남구 역삼동 1번지'\n",
        "print(addr[4:7]) # 앞은 시작 인덱스, 뒤는 마지막 인덱스-1\n",
        "                # 여러개 추출할 때 슬라이싱\n",
        "\n"
      ],
      "metadata": {
        "colab": {
          "base_uri": "https://localhost:8080/"
        },
        "id": "N3TNPkOXw7oh",
        "outputId": "e4ecc950-17cf-43aa-88f9-c0248ca6a6b7"
      },
      "execution_count": null,
      "outputs": [
        {
          "output_type": "stream",
          "name": "stdout",
          "text": [
            "100\n",
            "r\n",
            "d\n",
            "2\n",
            "강남구\n"
          ]
        }
      ]
    },
    {
      "cell_type": "code",
      "source": [
        "#print()\n",
        "print('좋은 아침입니다.')"
      ],
      "metadata": {
        "colab": {
          "base_uri": "https://localhost:8080/"
        },
        "id": "T_5Zp0DHzkDx",
        "outputId": "a332b025-ddb6-4a09-d03e-5d4843eb396a"
      },
      "execution_count": null,
      "outputs": [
        {
          "output_type": "stream",
          "name": "stdout",
          "text": [
            "좋은 아침입니다.\n"
          ]
        }
      ]
    },
    {
      "cell_type": "code",
      "source": [
        "#확장성 좋아짐\n",
        "when = '아침'\n",
        "print('좋은',when,'입니다.')\n",
        "print('좋은 %s입니다.' %when)\n",
        "print('좋은 {}입니다.'.format(when))\n",
        "print(f'좋은 {when}입니다.')#제일중요 (f'string')"
      ],
      "metadata": {
        "colab": {
          "base_uri": "https://localhost:8080/"
        },
        "id": "y3WoWn9U1p7a",
        "outputId": "f8eb5c6f-f5b0-40be-dbcb-89df38632657"
      },
      "execution_count": null,
      "outputs": [
        {
          "output_type": "stream",
          "name": "stdout",
          "text": [
            "좋은 아침 입니다.\n",
            "좋은 아침입니다.\n",
            "좋은 아침입니다.\n",
            "좋은 아침입니다.\n"
          ]
        }
      ]
    },
    {
      "cell_type": "code",
      "source": [
        "######################################\n",
        "#list tuple dict set 자료형\n",
        "######################################\n",
        "#여러개의 값을 한번에 저장하는 자료형이 필요하다\n",
        "\n",
        "#list\n",
        "#지금까지 사용한 숫자 1, 문자 1 등 개별적, 독립적인 자료가 아닌\n",
        "#리스트는 이러한 자료들 여러개를 모아서 사용할 수 있게 해준다.\n",
        "#리스트에 넣는 자료들을 요소element라고 부른다.\n",
        "\n",
        "list = [1,2,3,4,5]\n",
        "print(list)\n",
        "#리스트는 다양한 자료형의 데이터를 한번에 담을 수 있다.\n",
        "list=[1,2,3,'대한','민국',True,False]\n",
        "print(list) #한 리스트에 하나의 데이터형이 들어가는게 좋으니 지양할 것\n",
        "score = [80,90,70,60]\n",
        "#list는 인덱싱과 슬라이싱이 가능하다\n",
        "#인덱싱\n",
        "print(score[0])\n",
        "#슬라이싱\n",
        "print(score[0:2])\n",
        "\n",
        "#list는 수정/삭제가 가능하다(mutable)\n",
        "score[0]=100\n",
        "print(score)\n",
        "score[-1]=100\n",
        "print(score)\n",
        "# score[4] 인덱스 에러\n",
        "\n",
        "#list는 연산이 가능하다\n",
        "list_a=[1,2,3]\n",
        "list_b=[4,5,6]\n",
        "print('list_a=', list_a)\n",
        "print('list_b=', list_b)\n",
        "print(list_a+list_b)\n",
        "print (list_a * 3)\n",
        "print(len(list_a))"
      ],
      "metadata": {
        "colab": {
          "base_uri": "https://localhost:8080/"
        },
        "id": "C6vDrv4y181P",
        "outputId": "27a6db2c-58b4-4f70-8046-0807837bf286"
      },
      "execution_count": null,
      "outputs": [
        {
          "output_type": "stream",
          "name": "stdout",
          "text": [
            "[1, 2, 3, 4, 5]\n",
            "[1, 2, 3, '대한', '민국', True, False]\n",
            "80\n",
            "[80, 90]\n",
            "[100, 90, 70, 60]\n",
            "[100, 90, 70, 100]\n",
            "list_a= [1, 2, 3]\n",
            "list_b= [4, 5, 6]\n",
            "[1, 2, 3, 4, 5, 6]\n",
            "[1, 2, 3, 1, 2, 3, 1, 2, 3]\n",
            "3\n"
          ]
        }
      ]
    },
    {
      "cell_type": "markdown",
      "source": [
        "# 새 섹션"
      ],
      "metadata": {
        "id": "58bfO8RwbhsQ"
      }
    },
    {
      "cell_type": "markdown",
      "source": [
        "# 새 섹션"
      ],
      "metadata": {
        "id": "5Ynbt2HHbiLb"
      }
    },
    {
      "cell_type": "code",
      "source": [
        "#리스트에 많이 사용되는 함수들....\n",
        "#append(*****)리스트에 요소를 추가할 때 사용\n",
        "print(score)\n",
        "score.append(60)\n",
        "print(score)\n",
        "score.append(70)\n",
        "print(score)\n"
      ],
      "metadata": {
        "colab": {
          "base_uri": "https://localhost:8080/"
        },
        "id": "OM2J9WKOFlWm",
        "outputId": "47da886d-0ffa-4fca-a082-d8c95f393773"
      },
      "execution_count": null,
      "outputs": [
        {
          "output_type": "stream",
          "name": "stdout",
          "text": [
            "[100, 90, 70, 100]\n",
            "[100, 90, 70, 100, 60]\n",
            "[100, 90, 70, 100, 60, 70]\n"
          ]
        }
      ]
    },
    {
      "cell_type": "code",
      "source": [
        "#insert() 리스트에 요소를 추가할 때 사용, 특정 위치를 지정하여 추가\n",
        "list=[]\n",
        "list.insert(0,10)\n",
        "print(list)\n",
        "\n",
        "list.insert(1,50)\n",
        "print(list)"
      ],
      "metadata": {
        "colab": {
          "base_uri": "https://localhost:8080/"
        },
        "id": "W2677oOlJXAO",
        "outputId": "93374ca8-9093-4bf9-8c28-b9e412721b67"
      },
      "execution_count": null,
      "outputs": [
        {
          "output_type": "stream",
          "name": "stdout",
          "text": [
            "[10]\n",
            "[10, 50]\n"
          ]
        }
      ]
    },
    {
      "cell_type": "code",
      "source": [
        "#한번에 여러개 집어넣을 때\n",
        "list_a=[1,2,3]\n",
        "list_a.extend([4,5,6])\n",
        "list_a #파괴적 처리"
      ],
      "metadata": {
        "colab": {
          "base_uri": "https://localhost:8080/"
        },
        "id": "rswIvX2iKQj-",
        "outputId": "fd5bacdc-0d2a-48b5-c067-6041456227ab"
      },
      "execution_count": null,
      "outputs": [
        {
          "output_type": "execute_result",
          "data": {
            "text/plain": [
              "[1, 2, 3, 4, 5, 6]"
            ]
          },
          "metadata": {},
          "execution_count": 8
        }
      ]
    },
    {
      "cell_type": "code",
      "source": [
        "list_a=[1,2,3]\n",
        "list_b=[4,5,6]\n",
        "print(list_a+list_b)\n",
        "print(list_b) #비파괴적\n",
        "#extend와의 차이 결과는 같음\n",
        "#리스트는 연결만으로는 list_a에 어떠한 영향도 주지 않는다.(비파괴적 처리)\n",
        "#하지만 extend()를 사용하면 list_a에 직접적으로 영향을 주게된다.(파괴적 처리)\n",
        "#원래 자료를 사용할때는 비파괴적으로 사용하는 것이 바람직하다\n",
        "#가능하면 원본데이터는 그대로 유지하고 사용하는 것이 더 선택지가 넓다"
      ],
      "metadata": {
        "colab": {
          "base_uri": "https://localhost:8080/"
        },
        "id": "5ZMcWGn8Ku80",
        "outputId": "3caa011a-3e2f-4ad6-c765-5aff93035e81"
      },
      "execution_count": null,
      "outputs": [
        {
          "output_type": "stream",
          "name": "stdout",
          "text": [
            "[1, 2, 3, 4, 5, 6]\n",
            "[4, 5, 6]\n"
          ]
        }
      ]
    },
    {
      "cell_type": "code",
      "source": [
        "#del() 리스트에서 데이터 삭제\n",
        "list_a=[0,1,2,3,4,5]\n",
        "\n",
        "del list_a[1] #index 위치값 삭제\n",
        "print(list_a)\n",
        "\n",
        "del list_a[1:3] #1부터 3미만까지\n",
        "print(list_a)\n",
        "del list_a[:] #생략하면 처음:끝\n",
        "print(list_a)\n",
        "\n",
        "#list_a.clear() 리스트 요소를 전부 한번에 삭제\n",
        "\n"
      ],
      "metadata": {
        "colab": {
          "base_uri": "https://localhost:8080/"
        },
        "id": "5ZnKUA-EMdQU",
        "outputId": "bf78e430-4d64-4782-86cf-72bf7defb05e"
      },
      "execution_count": null,
      "outputs": [
        {
          "output_type": "stream",
          "name": "stdout",
          "text": [
            "[0, 2, 3, 4, 5]\n",
            "[0, 4, 5]\n",
            "[]\n"
          ]
        }
      ]
    },
    {
      "cell_type": "code",
      "source": [
        "#pop()\n",
        "list_a=[0,1,2,3,4,5]\n",
        "list_a.pop()\n",
        "list_a"
      ],
      "metadata": {
        "colab": {
          "base_uri": "https://localhost:8080/"
        },
        "id": "P-4frT1dNCdz",
        "outputId": "7def7b90-bde7-4021-8add-4172e670cc63"
      },
      "execution_count": null,
      "outputs": [
        {
          "output_type": "execute_result",
          "data": {
            "text/plain": [
              "[0, 1, 2, 3, 4]"
            ]
          },
          "metadata": {},
          "execution_count": 11
        }
      ]
    },
    {
      "cell_type": "code",
      "source": [
        "#remove 값으로 삭제\n",
        "\n",
        "list_c=[1,2,1,2]\n",
        "list_c.remove(2) #remove는 요소의 값을 찾아 삭제한다.\n",
        "                # 동일한 값이 여러개 있을떄는 하나씩 순차적으로 삭제한다.\n",
        "                #리스트에서 중복된 여러개의 값을 제거하려면 반복문을 사용한다.\n",
        "print(list_c)\n",
        "list_c.remove(2)\n",
        "print(list_c)"
      ],
      "metadata": {
        "colab": {
          "base_uri": "https://localhost:8080/"
        },
        "id": "BVWW-T46Obpb",
        "outputId": "2fb78b70-3dd0-405f-aa5a-b3d9cef7f12c"
      },
      "execution_count": null,
      "outputs": [
        {
          "output_type": "stream",
          "name": "stdout",
          "text": [
            "[1, 1, 2]\n",
            "[1, 1]\n"
          ]
        }
      ]
    },
    {
      "cell_type": "code",
      "source": [
        "list=[1,2,3,4,5]\n",
        "print(list[0]) #indexing 비파괴적으로 동작\n",
        "print(list)\n",
        "\n",
        "print(list.pop()) #pop()은 파괴적으로 동작\n",
        "print(list)"
      ],
      "metadata": {
        "colab": {
          "base_uri": "https://localhost:8080/"
        },
        "id": "uvq62l59PqtR",
        "outputId": "4f910eec-f945-4a3a-e7ae-9b1316b3340f"
      },
      "execution_count": null,
      "outputs": [
        {
          "output_type": "stream",
          "name": "stdout",
          "text": [
            "1\n",
            "[1, 2, 3, 4, 5]\n",
            "5\n",
            "[1, 2, 3, 4]\n"
          ]
        }
      ]
    },
    {
      "cell_type": "code",
      "source": [
        "#in/not in 리스트에 존재하는 요소인지를 확인\n",
        "\n",
        "list = [222,434,65,123,547,876]\n",
        "print(222 in list)\n",
        "list = [222,434,65,123,547,876]\n",
        "print(221 in list)\n",
        "print(221 not in list)"
      ],
      "metadata": {
        "colab": {
          "base_uri": "https://localhost:8080/"
        },
        "id": "9DgUHtoWQg6E",
        "outputId": "febd63ff-6253-4741-fe67-7fdbccfc67e8"
      },
      "execution_count": null,
      "outputs": [
        {
          "output_type": "stream",
          "name": "stdout",
          "text": [
            "True\n",
            "False\n",
            "True\n"
          ]
        }
      ]
    },
    {
      "cell_type": "code",
      "source": [
        "#Dict 딕셔너리 (java의 map,JS의 json 과 유사한 자료구조)\n",
        "# 리스트가 인덱스를 기반으로 값을 저장한다면 딕셔너리는 키값을 기반으로 값을 저장한다\n",
        "\n",
        "# {}를 사용하여 데이터들을 저장한다.\n",
        "# 삽입/삭제가 가능하다. mutable\n",
        "# 순서가 없으므로 인덱싱과 슬라이싱이 불가능하다.\n",
        "\n",
        "dict ={\n",
        "    \"name\" : \"엔드게임\", #키값\n",
        "    \"no\" :1,\n",
        "    \"type\" : \"히어로 무비\", #value값\n",
        "    \"price\" : 10000\n",
        "}\n",
        "print(dict)\n",
        "dict['name']\n"
      ],
      "metadata": {
        "colab": {
          "base_uri": "https://localhost:8080/",
          "height": 54
        },
        "id": "ZIjgSkxuQucB",
        "outputId": "1d610e25-ef28-4818-fe55-ac851f5deef1"
      },
      "execution_count": null,
      "outputs": [
        {
          "output_type": "stream",
          "name": "stdout",
          "text": [
            "{'name': '엔드게임', 'no': 1, 'type': '히어로 무비', 'price': 10000}\n"
          ]
        },
        {
          "output_type": "execute_result",
          "data": {
            "application/vnd.google.colaboratory.intrinsic+json": {
              "type": "string"
            },
            "text/plain": [
              "'엔드게임'"
            ]
          },
          "metadata": {},
          "execution_count": 15
        }
      ]
    },
    {
      "cell_type": "code",
      "source": [
        "dict={\n",
        "    \"감독\" :[\"안소니\",\"루소\"],\n",
        "    \"배우\":[\"타노스\",\"토르\",\"헐크\"]\n",
        "}\n",
        "dict[\"감독\"]"
      ],
      "metadata": {
        "colab": {
          "base_uri": "https://localhost:8080/"
        },
        "id": "SoOsCDzvlz27",
        "outputId": "cb8302de-a850-4c55-b9b9-5446790bbd3c"
      },
      "execution_count": null,
      "outputs": [
        {
          "output_type": "execute_result",
          "data": {
            "text/plain": [
              "['안소니', '루소']"
            ]
          },
          "metadata": {},
          "execution_count": 16
        }
      ]
    },
    {
      "cell_type": "code",
      "source": [
        "dict={\n",
        "    'name':'건조 망고',\n",
        "    'type':'절임 과일',\n",
        "    'ingredient':['망고','설탕','색소'],\n",
        "    'origin':'필리핀'\n",
        "}\n",
        "print('name:',dict['name'])\n",
        "print('type:',dict['type'])\n",
        "print('ingredient:',dict['ingredient'])\n",
        "print('origin:',dict['origin']\n",
        "\n",
        "dict['name'] ='망고'\n",
        "print('name :',dict['name'])"
      ],
      "metadata": {
        "colab": {
          "base_uri": "https://localhost:8080/",
          "height": 136
        },
        "id": "iTOYglHjl8ne",
        "outputId": "a1180d9b-50c3-4b5c-c76b-513f2538ea6a"
      },
      "execution_count": null,
      "outputs": [
        {
          "output_type": "error",
          "ename": "SyntaxError",
          "evalue": "ignored",
          "traceback": [
            "\u001b[0;36m  File \u001b[0;32m\"<ipython-input-17-f56d5b7465fc>\"\u001b[0;36m, line \u001b[0;32m12\u001b[0m\n\u001b[0;31m    dict['name'] ='망고'\u001b[0m\n\u001b[0m       ^\u001b[0m\n\u001b[0;31mSyntaxError\u001b[0m\u001b[0;31m:\u001b[0m invalid syntax\n"
          ]
        }
      ]
    },
    {
      "cell_type": "markdown",
      "source": [
        ""
      ],
      "metadata": {
        "id": "eFVmAn27u76L"
      }
    },
    {
      "cell_type": "markdown",
      "source": [
        ""
      ],
      "metadata": {
        "id": "W6LL2ZIau7ZW"
      }
    },
    {
      "cell_type": "code",
      "source": [
        "dict={}\n",
        "dict ['name']='새이름'\n",
        "dict['height']=185\n",
        "dict['weight']=75\n",
        "\n",
        "print(dict)\n",
        "del dict['weight']\n",
        "print(dict)"
      ],
      "metadata": {
        "colab": {
          "base_uri": "https://localhost:8080/"
        },
        "id": "LsaYgXBUo4Oq",
        "outputId": "978de39a-2592-49da-8616-2a946e010926"
      },
      "execution_count": null,
      "outputs": [
        {
          "output_type": "stream",
          "name": "stdout",
          "text": [
            "{'name': '새이름', 'height': 185, 'weight': 75}\n",
            "{'name': '새이름', 'height': 185}\n"
          ]
        }
      ]
    },
    {
      "cell_type": "code",
      "source": [
        "#dict 자주 등장하는 에러(예외)\n",
        "\n",
        "#KeyError리스트에서 없는 인덱스에 접근하려고 하면 indexError가 발생되는 것처럼\n",
        "#딕에서도 존재하지 않는 키값을 사용하면 예외 또는 에러를 발생시킨다.\n",
        "\n",
        "\n",
        " dict={\n",
        "    'name':'건조 망고',\n",
        "    'type':'절임 과일',\n",
        "    'ingredient':['망고','설탕','색소'],\n",
        "    'origin':'필리핀'\n",
        "}\n",
        "del dict['nane']"
      ],
      "metadata": {
        "colab": {
          "base_uri": "https://localhost:8080/",
          "height": 136
        },
        "id": "AsYJrcq0pVOc",
        "outputId": "9cce9425-496c-4fb6-b3ad-5becd4059157"
      },
      "execution_count": null,
      "outputs": [
        {
          "output_type": "error",
          "ename": "IndentationError",
          "evalue": "ignored",
          "traceback": [
            "\u001b[0;36m  File \u001b[0;32m\"<ipython-input-19-21af1713291f>\"\u001b[0;36m, line \u001b[0;32m7\u001b[0m\n\u001b[0;31m    dict={\u001b[0m\n\u001b[0m    ^\u001b[0m\n\u001b[0;31mIndentationError\u001b[0m\u001b[0;31m:\u001b[0m unexpected indent\n"
          ]
        }
      ]
    },
    {
      "cell_type": "code",
      "source": [
        "dict={\n",
        "    'name':'건조 망고',\n",
        "    'type':'절임 과일',\n",
        "    'ingredient':['망고','설탕','색소'],\n",
        "    'origin':'필리핀'\n",
        "}\n",
        "\n",
        "key = input('>삭제를 원하는 데이터의 키값을 입력하세요 : ')\n",
        "if key in dict:\n",
        "  del dict[key]\n",
        "else :\n",
        "  print('존재하지 않는 키에 접근하고 있습니다.')\n",
        "\n",
        "print(dict)\n"
      ],
      "metadata": {
        "id": "6P2MA46BqI38"
      },
      "execution_count": null,
      "outputs": []
    },
    {
      "cell_type": "code",
      "source": [
        "#튜플 tuple\n",
        "#()를 사용하여 작성한다.\n",
        "#리스트와 거의 대부분 유사하나, 튜블은 삽입, 수정등이 불가능하다. immutable\n",
        "#튜플은 1개의 원소로 작성할 때는 ,를 삽입한다.(1,) 리스트[1]\n",
        "\n",
        "\n"
      ],
      "metadata": {
        "id": "-8G8vV5AsDTH"
      },
      "execution_count": null,
      "outputs": []
    }
  ]
}