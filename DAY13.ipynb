{
 "cells": [
  {
   "cell_type": "code",
   "execution_count": 6,
   "id": "6fe918de",
   "metadata": {},
   "outputs": [],
   "source": [
    "#함수 형태로 무조건 구현할 것\n",
    "#prime number(소수) 출력\n",
    "\n",
    "a=17\n",
    "\n",
    "for i in range(2, a): #2,3,4,5,6,...\n",
    "    if a % i ==0:\n",
    "        print('소수가 아닙니다.')\n",
    "        break\n",
    "\n",
    "\n",
    "            "
   ]
  },
  {
   "cell_type": "code",
   "execution_count": 17,
   "id": "f6f1e4f7",
   "metadata": {},
   "outputs": [
    {
     "name": "stdout",
     "output_type": "stream",
     "text": [
      "Enter a number over 2 (not 0) >> 4\n",
      "소수가 아닙니다.\n"
     ]
    }
   ],
   "source": [
    "def is_prime_n(a): # 소수를 구하는 함수\n",
    "    for i in range(2,a): #2부터 입력 받은 a까지 반복문 돌기\n",
    "        if a % i ==0: #a가 i로 나누어 떨어지니?\n",
    "            return False #소수가 아니다\n",
    "    return True #소수이다\n",
    "\n",
    "#입력받은 숫자로 함수 호출 후 리턴받은 boolean값 변수에 저장\n",
    "b=is_prime_n(int(input('Enter a number over 2 (not 0) >> '))) \n",
    "\n",
    "if b == True : # boolean값에 따라 출력 결과 나누기\n",
    "    print('소수입니다.') #소수입니다 출력\n",
    "\n",
    "else: # 소수가 아닐 경우\n",
    "    print('소수가 아닙니다.') #소수가 아닙니다 출력"
   ]
  },
  {
   "cell_type": "code",
   "execution_count": 22,
   "id": "2cbca8a6",
   "metadata": {},
   "outputs": [
    {
     "name": "stdout",
     "output_type": "stream",
     "text": [
      "enter user number1\n",
      "enter user number2\n",
      "enter user number4\n",
      "enter user number5\n",
      "The last number you entered was a 5\n"
     ]
    }
   ],
   "source": [
    "# Ask the user to enter a number. Keep asking until they enter a value over 5\n",
    "# and then display the message \"The last number you entered was a [number]\"\n",
    "# and stop the program.\n",
    "\n",
    "#while \n",
    "\n",
    "a=0 \n",
    "while a <5:\n",
    "    a= int(input('enter user number'))\n",
    "    \n",
    "\n",
    "print(f'The last number you entered was a {a}')\n",
    "\n",
    "    \n",
    "    "
   ]
  },
  {
   "cell_type": "code",
   "execution_count": 29,
   "id": "1d703635",
   "metadata": {},
   "outputs": [
    {
     "name": "stdout",
     "output_type": "stream",
     "text": [
      "number >> 1\n",
      "another number >> 2\n",
      "Do you want to add another number? (y/n)y\n",
      "another number >> 2\n",
      "Do you want to add another number? (y/n)n\n",
      "The total is 5\n"
     ]
    }
   ],
   "source": [
    "# Ask the user to enter a number and then enter another number.\n",
    "# Add there two numbers together and then \n",
    "# ask  if they want to add another number. If they enter 'y', ask them to enter \n",
    "# another numbers until they do not answer 'y'. Once the loop has stopped,\n",
    "# display the total.\n",
    "\n",
    "a=int(input('number >> '))\n",
    "sum=a\n",
    "again='y'\n",
    "while again=='y':\n",
    "    b=int(input('another number >> '))\n",
    "    sum=sum+b\n",
    "    again=input('Do you want to add another number? (y/n)')\n",
    "\n",
    "print(f'The total is {sum}')"
   ]
  },
  {
   "cell_type": "code",
   "execution_count": 37,
   "id": "24559f7d",
   "metadata": {},
   "outputs": [
    {
     "name": "stdout",
     "output_type": "stream",
     "text": [
      "enter name >> df\n",
      "df has been invited\n",
      "do you want to invite somebody more? (y/n)y\n",
      "enter name >> we\n",
      "we has been invited\n",
      "do you want to invite somebody more? (y/n)n\n",
      "how many people coming in party >>  2\n"
     ]
    }
   ],
   "source": [
    "count=0\n",
    "again='y'\n",
    "while again=='y':\n",
    "    name= input('enter name >> ')\n",
    "    print(f'{name} has been invited')\n",
    "    count+=1\n",
    "    again=input('do you want to invite somebody more? (y/n)')\n",
    "    \n",
    "print('how many people coming in party >> ',count)"
   ]
  },
  {
   "cell_type": "code",
   "execution_count": 45,
   "id": "ecf00c97",
   "metadata": {},
   "outputs": [
    {
     "name": "stdout",
     "output_type": "stream",
     "text": [
      "78\n",
      "enter a number >> 12\n",
      "too low\n",
      "another guess42\n",
      "too low\n",
      "another guess12\n",
      "too low\n",
      "another guess78\n",
      "Well done, you took 4 apptmpts\n"
     ]
    }
   ],
   "source": [
    "# Create a variable called 'compnum' and set the value to 50. \n",
    "# Ask the user to enter a number. \n",
    "# while their guess is not the same as the compnum value,\n",
    "# tell them if their guess is too low or too high and ask them to have another guess.\n",
    "# If they enter the same value as compnum, \n",
    "# display the message 'Well done, you took [count] apptmpts'.\n",
    "from random import*\n",
    "\n",
    "compnum=randint(1,100)\n",
    "print(compnum)\n",
    "\n",
    "count = 1\n",
    "a=0\n",
    "a=int(input('enter a number >> '))\n",
    "while a!=compnum:\n",
    "    if a<compnum:\n",
    "        print('too low')\n",
    "    else :\n",
    "        print('too high')\n",
    "  \n",
    "    count +=1\n",
    "    a= int(input('another guess'))\n",
    "\n",
    "print(f'Well done, you took {count} apptmpts')\n",
    "    \n"
   ]
  },
  {
   "cell_type": "code",
   "execution_count": null,
   "id": "9329e769",
   "metadata": {},
   "outputs": [],
   "source": [
    "# Using the song '10 green bottles', display the lines \n",
    "# '10 green bottles' 라는 노래를 이용하여\n",
    "\n",
    "# 'There are [num] green bottles hanging on the wall, \n",
    "# [num] green bottles hanging on the wall, \n",
    "# and if 1 green bottle should accidentally fall'\n",
    "# 라는 가사를 출력하고\n",
    "\n",
    "# Then ask the question 'how many green bottles will be hanging on the wall?'\n",
    "# 남은 병의 갯수는 몇개니 라고 질문한다. \n",
    "# If the user answers correctly, display the message\n",
    "# 질문에 맞는 답을 하면 \n",
    "# 'There will be [num] green bottles hanging on the wall'\n",
    "# 몇개 남은 결과를 출력하고\n",
    "# If they answer incorrectly, display the message \n",
    "# 틀린 답을 입력하면 \n",
    "# 'No, try again' until they get if right.\n",
    "# 다시 시도하셔요 라고 맞출때까지 반복한다. \n",
    "# When the number of green bottles gets down to 0,\n",
    "# 병의 개수가 0이되면 \n",
    "# display the message 'There are no more green bottles hanging on the wall'\n",
    "# 더이상 남은 병은 없습니다. 출력하고 종료한다. "
   ]
  },
  {
   "cell_type": "code",
   "execution_count": 47,
   "id": "8058ca9d",
   "metadata": {},
   "outputs": [
    {
     "name": "stdout",
     "output_type": "stream",
     "text": [
      "10개의 녹색 병이 벽에 걸려 있고,\n",
      "10개의 녹색 병이 벽에 걸려 있고,\n",
      "녹색 병 1개가 실수로 떨어지면,\n",
      "몇개의 녹색 병이 걸려 있을까요? >>8\n",
      "다시 시도하세요\n",
      "10개의 녹색 병이 벽에 걸려 있고,\n",
      "10개의 녹색 병이 벽에 걸려 있고,\n",
      "녹색 병 1개가 실수로 떨어지면,\n",
      "몇개의 녹색 병이 걸려 있을까요? >>4\n",
      "다시 시도하세요\n",
      "10개의 녹색 병이 벽에 걸려 있고,\n",
      "10개의 녹색 병이 벽에 걸려 있고,\n",
      "녹색 병 1개가 실수로 떨어지면,\n",
      "몇개의 녹색 병이 걸려 있을까요? >>\n"
     ]
    },
    {
     "ename": "ValueError",
     "evalue": "invalid literal for int() with base 10: ''",
     "output_type": "error",
     "traceback": [
      "\u001b[1;31m---------------------------------------------------------------------------\u001b[0m",
      "\u001b[1;31mValueError\u001b[0m                                Traceback (most recent call last)",
      "\u001b[1;32m~\\AppData\\Local\\Temp/ipykernel_2300/879519661.py\u001b[0m in \u001b[0;36m<module>\u001b[1;34m\u001b[0m\n\u001b[0;32m     19\u001b[0m     \u001b[0mprint\u001b[0m\u001b[1;33m(\u001b[0m\u001b[1;34mf'{num}개의 녹색 병이 벽에 걸려 있고,'\u001b[0m\u001b[1;33m)\u001b[0m\u001b[1;33m\u001b[0m\u001b[1;33m\u001b[0m\u001b[0m\n\u001b[0;32m     20\u001b[0m     \u001b[0mprint\u001b[0m\u001b[1;33m(\u001b[0m\u001b[1;34mf'녹색 병 1개가 실수로 떨어지면,'\u001b[0m\u001b[1;33m)\u001b[0m\u001b[1;33m\u001b[0m\u001b[1;33m\u001b[0m\u001b[0m\n\u001b[1;32m---> 21\u001b[1;33m     \u001b[0ma\u001b[0m\u001b[1;33m=\u001b[0m\u001b[0mint\u001b[0m\u001b[1;33m(\u001b[0m\u001b[0minput\u001b[0m\u001b[1;33m(\u001b[0m\u001b[1;34m'몇개의 녹색 병이 걸려 있을까요? >>'\u001b[0m\u001b[1;33m)\u001b[0m\u001b[1;33m)\u001b[0m\u001b[1;33m\u001b[0m\u001b[1;33m\u001b[0m\u001b[0m\n\u001b[0m\u001b[0;32m     22\u001b[0m     \u001b[1;32mif\u001b[0m \u001b[0mnum\u001b[0m\u001b[1;33m-\u001b[0m\u001b[1;36m1\u001b[0m\u001b[1;33m==\u001b[0m\u001b[0ma\u001b[0m\u001b[1;33m:\u001b[0m\u001b[1;33m\u001b[0m\u001b[1;33m\u001b[0m\u001b[0m\n\u001b[0;32m     23\u001b[0m         \u001b[0mnum\u001b[0m\u001b[1;33m=\u001b[0m\u001b[0ma\u001b[0m\u001b[1;33m\u001b[0m\u001b[1;33m\u001b[0m\u001b[0m\n",
      "\u001b[1;31mValueError\u001b[0m: invalid literal for int() with base 10: ''"
     ]
    }
   ],
   "source": [
    "# '10개의 녹색 병'이라는 노래를 사용하여 선을 표시하십시오.\n",
    "\n",
    "# '[num]개의 녹색 병이 벽에 걸려 있고,\n",
    "# [num]개의 녹색 병이 벽에 걸려 있고,\n",
    "# 녹색 병 1개가 실수로 떨어지면'\n",
    "\n",
    "# 그런 다음 '벽에 녹색 병이 몇 개나 걸릴까요?'라는 질문을 하세요.\n",
    "# 사용자가 올바르게 응답하면 메시지를 표시합니다.\n",
    "# '[num]개의 녹색 병이 벽에 걸려 있을 것입니다'\n",
    "# 틀리게 답하면 메시지를 표시합니다.\n",
    "# '아니요, 다시 시도하세요'가 맞을 때까지.\n",
    "# 초록색 병의 개수가 0이 되면,\n",
    "# '더 이상 벽에 걸려 있는 녹색 병이 없습니다'라는 메시지를 표시합니다.\n",
    "\n",
    "num=10\n",
    "\n",
    "while num!=0:\n",
    "    print(f'{num}개의 녹색 병이 벽에 걸려 있고,')\n",
    "    print(f'{num}개의 녹색 병이 벽에 걸려 있고,')\n",
    "    print(f'녹색 병 1개가 실수로 떨어지면,')\n",
    "    a=int(input('몇개의 녹색 병이 걸려 있을까요? >>'))\n",
    "    if num-1==a:\n",
    "        num=a\n",
    "    else:\n",
    "        print('다시 시도하세요')\n",
    "print('더이상 벽에 걸려 있는 녹색 병이 없습니다.')"
   ]
  },
  {
   "cell_type": "code",
   "execution_count": null,
   "id": "9ed83eff",
   "metadata": {},
   "outputs": [],
   "source": [
    "#강사님\n",
    "num = 10\n",
    "\n",
    "while num > 0 :\n",
    "  print('There are', num, 'green bottles hanging on the wall,')\n",
    "  print(num,' green bottles hanging on the wall,') \n",
    "  print('and if 1 green bottle should accidentally fall')\n",
    "  num -= 1\n",
    "  ans = int(input('How many green bottles will be hanging on the wall?'))\n",
    "  if ans == num:\n",
    "    print('There will be', num, ' green bottles hanging on the wall')\n",
    "  else: \n",
    "    while ans != num:\n",
    "      ans = int(input('No, try again :'))\n",
    "print('There are no more green bottles hanging on the wall45')"
   ]
  },
  {
   "cell_type": "code",
   "execution_count": null,
   "id": "4acaf6dd",
   "metadata": {},
   "outputs": [],
   "source": [
    "#########################################################\n",
    "# Random : Python can generate random values\n",
    "# - Random numbers within a specified range. \n",
    "# - A random choice from a range of items that are input. \n",
    "\n",
    "# To use these two options, you will need to import the random module. \n",
    "# You do this by typing import random at the start of your program\n",
    "\n"
   ]
  },
  {
   "cell_type": "code",
   "execution_count": 51,
   "id": "88b94bdf",
   "metadata": {},
   "outputs": [
    {
     "name": "stdout",
     "output_type": "stream",
     "text": [
      "0.9234958499027137\n"
     ]
    }
   ],
   "source": [
    "import random\n",
    "num = random.random()\n",
    "print(num)\n",
    "\n",
    "# random floating number between 0 and 1"
   ]
  },
  {
   "cell_type": "code",
   "execution_count": 65,
   "id": "f7bc7c13",
   "metadata": {},
   "outputs": [
    {
     "name": "stdout",
     "output_type": "stream",
     "text": [
      "8\n"
     ]
    }
   ],
   "source": [
    "num = int((random.random()) * 10)\n",
    "print(num)"
   ]
  },
  {
   "cell_type": "code",
   "execution_count": null,
   "id": "502f9b56",
   "metadata": {},
   "outputs": [],
   "source": [
    "# Selects a random whole number between 0 and 9(inclusive)\n",
    "\n",
    "num = random.randint(0,9) #9(inclusive)\n",
    "print(num)"
   ]
  },
  {
   "cell_type": "code",
   "execution_count": null,
   "id": "3d6e657f",
   "metadata": {},
   "outputs": [],
   "source": [
    "# Picks a random number between the numbers 0 and 100(inclusive) in steps of five\n",
    "# it will only pick from 0,5,10,15,20....etc\n",
    "\n",
    "num = random.randrange(0, 100, 5)  # 100(inclusive)\n",
    "print(num)"
   ]
  },
  {
   "cell_type": "code",
   "execution_count": null,
   "id": "951c5365",
   "metadata": {},
   "outputs": [],
   "source": [
    "# Picks a random value from the options.........\n",
    "\n",
    "color = random.choice(['red','black','blue','green','white'])\n",
    "print(color)"
   ]
  },
  {
   "cell_type": "code",
   "execution_count": 50,
   "id": "e4e913c4",
   "metadata": {},
   "outputs": [
    {
     "name": "stdout",
     "output_type": "stream",
     "text": [
      "enter choice (h/t)>>t\n",
      "Bad luck\n",
      "h\n"
     ]
    }
   ],
   "source": [
    "# Randomly choose either heads or tails ( 'h' or 't') \n",
    "# Ask the user to make their choice.\n",
    "# If their choice is the same as the randomly selected value,\n",
    "# display the message ' You Win ', otherwise display 'Bad luck'.\n",
    "# At the end, tell the user if the computer selected heads or tails.\n",
    "import random\n",
    "w=random.choice(['h','t'])\n",
    "\n",
    "u=input('enter choice (h/t)>>')\n",
    "\n",
    "if u==w:\n",
    "    print('You Win')\n",
    "else :\n",
    "    print('Bad luck')\n",
    "\n",
    "print(w)"
   ]
  },
  {
   "cell_type": "code",
   "execution_count": null,
   "id": "41b02206",
   "metadata": {},
   "outputs": [],
   "source": [
    "# Makes a maths quiz that asks five questions \n",
    "# by randomly generating two whole numbers to make the question\n",
    "\n",
    "# Ask the user to enter the answer. \n",
    "# If they get it right add a point to their score.\n",
    "# At the end of the quiz, tell them how many they got correct out of five.\n",
    "\n"
   ]
  },
  {
   "cell_type": "code",
   "execution_count": null,
   "id": "8437ec60",
   "metadata": {},
   "outputs": [],
   "source": [
    "\n",
    "# 5개의 질문을 던지는 수학 퀴즈를 만듭니다.\n",
    "# 무작위로 두 개의 정수를 생성하여 질문을 만듭니다.\n",
    "# ( [num1 + num2] )\n",
    "# 사용자에게 답변을 입력하도록 요청합니다.\n",
    "# 맞히면 점수에 1점을 추가합니다.\n",
    "# 퀴즈가 끝나면 5개 중 몇 개를 맞췄는지 알려주세요"
   ]
  },
  {
   "cell_type": "code",
   "execution_count": 66,
   "id": "0f431256",
   "metadata": {},
   "outputs": [
    {
     "name": "stdout",
     "output_type": "stream",
     "text": [
      "7+2=\n",
      "what is result >>9\n",
      "\n",
      "3+6=\n",
      "what is result >>9\n",
      "\n",
      "9+8=\n",
      "what is result >>17\n",
      "\n",
      "5+2=\n",
      "what is result >>4\n",
      "\n",
      "8+4=\n",
      "what is result >>1\n",
      "\n",
      "You score 3 out of 5\n"
     ]
    }
   ],
   "source": [
    "score=0\n",
    "for i in range(5):\n",
    "    a=random.randint(1,9)\n",
    "    b=random.randint(1,9)\n",
    "    \n",
    "    corr=a+b\n",
    "    print(f'{a}+{b}=')\n",
    "    result=int(input('what is result >>'))\n",
    "    print()\n",
    "    \n",
    "    if result==corr:\n",
    "        score+=1\n",
    "        \n",
    "print(f'You score {score} out of 5')\n",
    "    \n",
    "    "
   ]
  },
  {
   "cell_type": "code",
   "execution_count": null,
   "id": "afa921d6",
   "metadata": {},
   "outputs": [],
   "source": [
    "# Display five colors and ask the user to pick one.\n",
    "# If they pick the same as the program has chosen,\n",
    "# say 'Well done', otherwise display a witty answer which involves\n",
    "# the correct colors....like...'I bet you are GREEN with envy'\n",
    "# or 'You are probably feeling BLUE right now'.\n",
    "# Ask them to guess again: if they have still not got it right,\n",
    "# keep giving them the same clue and ask the user to enter a color\n",
    "# until they guess it correctly.\n",
    "\n",
    "# 5가지 색상을 표시하고 사용자에게 하나를 선택하도록 요청합니다.\n",
    "# 프로그램에서 선택한 것과 동일하게 선택하면\n",
    "# '잘했어'라고 말하고, 그렇지 않으면 다음을 포함하는 재치 있는 답변을 표시합니다.\n",
    "# 올바른 색상 ....처럼 ...'당신은 부러워하는 녹색입니다'\n",
    "# 또는 '당신은 아마 지금 기분이 우울할 것입니다'.\n",
    "# 다시 추측하게 하십시오. 아직 맞추지 못했다면,\n",
    "# 계속 같은 단서를 주고 사용자에게 색상을 입력하도록 요청합니다.\n",
    "# 그들이 올바르게 추측할 때까지."
   ]
  },
  {
   "cell_type": "code",
   "execution_count": 74,
   "id": "94a36a6f",
   "metadata": {},
   "outputs": [
    {
     "name": "stdout",
     "output_type": "stream",
     "text": [
      "choose color(red,black,blue,green,white)green\n",
      "word's last index e\n",
      "choose color(red,black,blue,green,white)blue\n",
      "word's first index w\n",
      "choose color(red,black,blue,green,white)white\n",
      "Well done\n"
     ]
    }
   ],
   "source": [
    "import random\n",
    "color = random.choice(['red','black','blue','green','white'])\n",
    "\n",
    "a=\"word's first index \"+color[0]\n",
    "b=\"word's first index \"+color[0]\n",
    "c=\"word's last index \"+color[-1]\n",
    "d=\"start \"+color[0]+\" last \"+color[-1]\n",
    "e=\"just this word look \"+ color\n",
    "\n",
    "while True:\n",
    "    witty=random.choice([a,b,c,d,e])\n",
    "    answer= input('choose color(red,black,blue,green,white)')\n",
    "    if answer ==color:\n",
    "        print('Well done')\n",
    "        break\n",
    "    else:\n",
    "        print(witty)\n",
    "        "
   ]
  },
  {
   "cell_type": "code",
   "execution_count": null,
   "id": "33ceec30",
   "metadata": {},
   "outputs": [],
   "source": []
  },
  {
   "cell_type": "code",
   "execution_count": null,
   "id": "c5d658a9",
   "metadata": {},
   "outputs": [],
   "source": []
  },
  {
   "cell_type": "code",
   "execution_count": null,
   "id": "44361c3b",
   "metadata": {},
   "outputs": [],
   "source": []
  },
  {
   "cell_type": "code",
   "execution_count": null,
   "id": "902aff3c",
   "metadata": {},
   "outputs": [],
   "source": []
  },
  {
   "cell_type": "code",
   "execution_count": null,
   "id": "7f3e2cd6",
   "metadata": {},
   "outputs": [],
   "source": []
  },
  {
   "cell_type": "code",
   "execution_count": null,
   "id": "d28599e3",
   "metadata": {},
   "outputs": [],
   "source": []
  },
  {
   "cell_type": "code",
   "execution_count": null,
   "id": "22fb4fce",
   "metadata": {},
   "outputs": [],
   "source": []
  },
  {
   "cell_type": "code",
   "execution_count": null,
   "id": "da6b7801",
   "metadata": {},
   "outputs": [],
   "source": []
  },
  {
   "cell_type": "code",
   "execution_count": null,
   "id": "f942a4b2",
   "metadata": {},
   "outputs": [],
   "source": []
  },
  {
   "cell_type": "code",
   "execution_count": null,
   "id": "46194fb3",
   "metadata": {},
   "outputs": [],
   "source": []
  },
  {
   "cell_type": "code",
   "execution_count": null,
   "id": "9d6d52f2",
   "metadata": {},
   "outputs": [],
   "source": []
  },
  {
   "cell_type": "code",
   "execution_count": null,
   "id": "c43ddfb1",
   "metadata": {},
   "outputs": [],
   "source": []
  },
  {
   "cell_type": "code",
   "execution_count": null,
   "id": "4d295eaa",
   "metadata": {},
   "outputs": [],
   "source": []
  },
  {
   "cell_type": "code",
   "execution_count": null,
   "id": "9e5716c9",
   "metadata": {},
   "outputs": [],
   "source": []
  },
  {
   "cell_type": "code",
   "execution_count": null,
   "id": "5a051b34",
   "metadata": {},
   "outputs": [],
   "source": []
  },
  {
   "cell_type": "code",
   "execution_count": null,
   "id": "9264e49c",
   "metadata": {},
   "outputs": [],
   "source": []
  },
  {
   "cell_type": "code",
   "execution_count": null,
   "id": "66fafea6",
   "metadata": {},
   "outputs": [],
   "source": []
  },
  {
   "cell_type": "code",
   "execution_count": null,
   "id": "c0c20552",
   "metadata": {},
   "outputs": [],
   "source": []
  }
 ],
 "metadata": {
  "kernelspec": {
   "display_name": "Python 3 (ipykernel)",
   "language": "python",
   "name": "python3"
  },
  "language_info": {
   "codemirror_mode": {
    "name": "ipython",
    "version": 3
   },
   "file_extension": ".py",
   "mimetype": "text/x-python",
   "name": "python",
   "nbconvert_exporter": "python",
   "pygments_lexer": "ipython3",
   "version": "3.9.7"
  }
 },
 "nbformat": 4,
 "nbformat_minor": 5
}
