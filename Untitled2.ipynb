{
 "cells": [
  {
   "cell_type": "code",
   "execution_count": null,
   "id": "316b0c29",
   "metadata": {},
   "outputs": [],
   "source": [
    "Split Number, String and Symbols from a String(Python Code & Result, \n",
    "20210402_NO_NAME.jpg)(extra : 1- use def,2- use class ,3-use re)\n",
    "\n",
    "\n",
    "문자열에서 숫자, 문자열 및 기호 분할(Python 코드 및 결과,\n",
    "20210402_NO_NAME.jpg)(extra : 1- use def, 2- use class, 3-use re)"
   ]
  },
  {
   "cell_type": "code",
   "execution_count": null,
   "id": "9c346224",
   "metadata": {},
   "outputs": [],
   "source": [
    "import re\n",
    "def spl(list):\n",
    "    print()\n",
    "        \n",
    "\n",
    "list=input('문자열 숫자 문자 기호를 입력하세요 >> ')\n",
    "spl(list)"
   ]
  },
  {
   "cell_type": "code",
   "execution_count": null,
   "id": "4cb11019",
   "metadata": {},
   "outputs": [],
   "source": []
  },
  {
   "cell_type": "code",
   "execution_count": null,
   "id": "75c63a22",
   "metadata": {},
   "outputs": [],
   "source": []
  },
  {
   "cell_type": "code",
   "execution_count": null,
   "id": "9c88c370",
   "metadata": {},
   "outputs": [],
   "source": [
    "Find the largest number that can be formed with the given digits.(Python Code & \n",
    "Result, 20210503_NO_NAME.jpg)(extra : 1- use def,2- use class,\n",
    "                              3-use try-except, 4-smallest number)\n"
   ]
  },
  {
   "cell_type": "code",
   "execution_count": null,
   "id": "bad06b06",
   "metadata": {},
   "outputs": [],
   "source": [
    "Given two version numbers, version1 and version2, compare them.\n",
    "Version number consist of one or more revisions joined by a dot each\n",
    "revision constains at least one character.\n",
    "Revisions are 0-indexed from left to right, with the leftmost revision being\n",
    "revision 0, the next revision being revision 1,and so on, For example 2.5.33 and 0.1\n",
    "are valid version number.\n",
    "To compare version numbers, compare their revisions in left-to-right order.\n",
    "Revisions are compared using their integer value ignoring any leading zeros. \n",
    "This means that revisions 1 and 001 are considered equal. \n",
    "if version number does not specify a version at an index, then treat the revision as 0.\n",
    "For example, version 1.0 is less than version 1.1 because their revison 0s are the same,\n",
    "but their revision 1s are 0 and 1 respectively, and 0 < 1."
   ]
  },
  {
   "cell_type": "code",
   "execution_count": null,
   "id": "a2483235",
   "metadata": {},
   "outputs": [],
   "source": []
  },
  {
   "cell_type": "code",
   "execution_count": null,
   "id": "29329aa4",
   "metadata": {},
   "outputs": [],
   "source": []
  },
  {
   "cell_type": "code",
   "execution_count": null,
   "id": "d9617e16",
   "metadata": {},
   "outputs": [],
   "source": []
  },
  {
   "cell_type": "code",
   "execution_count": null,
   "id": "beaf8a2f",
   "metadata": {},
   "outputs": [],
   "source": []
  },
  {
   "cell_type": "code",
   "execution_count": null,
   "id": "3be44a08",
   "metadata": {},
   "outputs": [],
   "source": []
  },
  {
   "cell_type": "code",
   "execution_count": null,
   "id": "00dd18ca",
   "metadata": {},
   "outputs": [],
   "source": []
  }
 ],
 "metadata": {
  "kernelspec": {
   "display_name": "Python 3 (ipykernel)",
   "language": "python",
   "name": "python3"
  },
  "language_info": {
   "codemirror_mode": {
    "name": "ipython",
    "version": 3
   },
   "file_extension": ".py",
   "mimetype": "text/x-python",
   "name": "python",
   "nbconvert_exporter": "python",
   "pygments_lexer": "ipython3",
   "version": "3.9.7"
  }
 },
 "nbformat": 4,
 "nbformat_minor": 5
}
