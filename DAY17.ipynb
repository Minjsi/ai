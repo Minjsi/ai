{
 "cells": [
  {
   "cell_type": "code",
   "execution_count": null,
   "id": "c7b49821",
   "metadata": {},
   "outputs": [],
   "source": [
    "# Function ( subprograms )\n",
    "\n",
    "# Blocks of code which perform specific tasks and can be called upon at any time \n",
    "# in the program to run that code.\n",
    "\n",
    "# Advantages\n",
    "# - it can be used and reused at diffenent times during the program.\n",
    "# - it makes the program simpler to understand as the code is grouped together into chunks.\n",
    "\n",
    "def get_name():  #4\n",
    "  user_name = input('Enter your name : ')  #5\n",
    "  return user_name  #6\n",
    "\n",
    "def print_Msg(user_name):  #9\n",
    "  print(\"Hello\", user_name)  # 10\n",
    "\n",
    "def main():   #2\n",
    "  user_name = get_name()  #3  # 7\n",
    "  print_Msg(user_name)  #8\n",
    "\n",
    "\n",
    "main()   #1"
   ]
  },
  {
   "cell_type": "code",
   "execution_count": 8,
   "id": "5bf5f2bd",
   "metadata": {},
   "outputs": [
    {
     "name": "stdout",
     "output_type": "stream",
     "text": [
      "Enter your name : 20\n",
      "Enter your age : 20\n"
     ]
    },
    {
     "ename": "TypeError",
     "evalue": "'<=' not supported between instances of 'str' and 'int'",
     "output_type": "error",
     "traceback": [
      "\u001b[1;31m---------------------------------------------------------------------------\u001b[0m",
      "\u001b[1;31mTypeError\u001b[0m                                 Traceback (most recent call last)",
      "\u001b[1;32m~\\AppData\\Local\\Temp/ipykernel_29132/2177438498.py\u001b[0m in \u001b[0;36m<module>\u001b[1;34m\u001b[0m\n\u001b[0;32m     15\u001b[0m   \u001b[0mmessage\u001b[0m\u001b[1;33m(\u001b[0m\u001b[0muser_name\u001b[0m\u001b[1;33m,\u001b[0m \u001b[0muser_age\u001b[0m\u001b[1;33m)\u001b[0m \u001b[1;31m#10\u001b[0m\u001b[1;33m\u001b[0m\u001b[1;33m\u001b[0m\u001b[0m\n\u001b[0;32m     16\u001b[0m \u001b[1;33m\u001b[0m\u001b[0m\n\u001b[1;32m---> 17\u001b[1;33m \u001b[0mmain\u001b[0m\u001b[1;33m(\u001b[0m\u001b[1;33m)\u001b[0m  \u001b[1;31m#1\u001b[0m\u001b[1;33m\u001b[0m\u001b[1;33m\u001b[0m\u001b[0m\n\u001b[0m\u001b[0;32m     18\u001b[0m \u001b[1;33m\u001b[0m\u001b[0m\n\u001b[0;32m     19\u001b[0m \u001b[1;31m# 4 5 6 7 8 11 12 13 2 3 9 10 1\u001b[0m\u001b[1;33m\u001b[0m\u001b[1;33m\u001b[0m\u001b[0m\n",
      "\u001b[1;32m~\\AppData\\Local\\Temp/ipykernel_29132/2177438498.py\u001b[0m in \u001b[0;36mmain\u001b[1;34m()\u001b[0m\n\u001b[0;32m     13\u001b[0m \u001b[1;32mdef\u001b[0m \u001b[0mmain\u001b[0m\u001b[1;33m(\u001b[0m\u001b[1;33m)\u001b[0m\u001b[1;33m:\u001b[0m \u001b[1;31m#2\u001b[0m\u001b[1;33m\u001b[0m\u001b[1;33m\u001b[0m\u001b[0m\n\u001b[0;32m     14\u001b[0m   \u001b[0muser_name\u001b[0m\u001b[1;33m,\u001b[0m \u001b[0muser_age\u001b[0m \u001b[1;33m=\u001b[0m \u001b[0mget_data\u001b[0m\u001b[1;33m(\u001b[0m\u001b[1;33m)\u001b[0m \u001b[1;31m#3 #9\u001b[0m\u001b[1;33m\u001b[0m\u001b[1;33m\u001b[0m\u001b[0m\n\u001b[1;32m---> 15\u001b[1;33m   \u001b[0mmessage\u001b[0m\u001b[1;33m(\u001b[0m\u001b[0muser_name\u001b[0m\u001b[1;33m,\u001b[0m \u001b[0muser_age\u001b[0m\u001b[1;33m)\u001b[0m \u001b[1;31m#10\u001b[0m\u001b[1;33m\u001b[0m\u001b[1;33m\u001b[0m\u001b[0m\n\u001b[0m\u001b[0;32m     16\u001b[0m \u001b[1;33m\u001b[0m\u001b[0m\n\u001b[0;32m     17\u001b[0m \u001b[0mmain\u001b[0m\u001b[1;33m(\u001b[0m\u001b[1;33m)\u001b[0m  \u001b[1;31m#1\u001b[0m\u001b[1;33m\u001b[0m\u001b[1;33m\u001b[0m\u001b[0m\n",
      "\u001b[1;32m~\\AppData\\Local\\Temp/ipykernel_29132/2177438498.py\u001b[0m in \u001b[0;36mmessage\u001b[1;34m(user_name, user_age)\u001b[0m\n\u001b[0;32m      6\u001b[0m \u001b[1;33m\u001b[0m\u001b[0m\n\u001b[0;32m      7\u001b[0m \u001b[1;32mdef\u001b[0m \u001b[0mmessage\u001b[0m\u001b[1;33m(\u001b[0m\u001b[0muser_name\u001b[0m\u001b[1;33m,\u001b[0m \u001b[0muser_age\u001b[0m\u001b[1;33m)\u001b[0m\u001b[1;33m:\u001b[0m \u001b[1;31m#11\u001b[0m\u001b[1;33m\u001b[0m\u001b[1;33m\u001b[0m\u001b[0m\n\u001b[1;32m----> 8\u001b[1;33m   \u001b[1;32mif\u001b[0m \u001b[0muser_age\u001b[0m \u001b[1;33m<=\u001b[0m \u001b[1;36m10\u001b[0m\u001b[1;33m:\u001b[0m\u001b[1;33m\u001b[0m\u001b[1;33m\u001b[0m\u001b[0m\n\u001b[0m\u001b[0;32m      9\u001b[0m     \u001b[0mprint\u001b[0m\u001b[1;33m(\u001b[0m\u001b[1;34m'Hi'\u001b[0m\u001b[1;33m,\u001b[0m \u001b[0muser_name\u001b[0m\u001b[1;33m)\u001b[0m\u001b[1;33m\u001b[0m\u001b[1;33m\u001b[0m\u001b[0m\n\u001b[0;32m     10\u001b[0m   \u001b[1;32melse\u001b[0m\u001b[1;33m:\u001b[0m \u001b[1;31m#12\u001b[0m\u001b[1;33m\u001b[0m\u001b[1;33m\u001b[0m\u001b[0m\n",
      "\u001b[1;31mTypeError\u001b[0m: '<=' not supported between instances of 'str' and 'int'"
     ]
    }
   ],
   "source": [
    "def get_data(): #4\n",
    "    user_name = input('Enter your name : ')  #5\n",
    "    user_age = input('Enter your age : ')   #6\n",
    "    data_tuple = (user_name, user_age)     #7\n",
    "    return data_tuple                    #8\n",
    "\n",
    "def message(user_name, user_age): #11\n",
    "  if user_age <= 10:  \n",
    "    print('Hi', user_name)\n",
    "  else: #12\n",
    "    print('Hello', user_name)#13\n",
    "\n",
    "def main(): #2\n",
    "  user_name, user_age = get_data() #3 #9\n",
    "  message(user_name, user_age) #10\n",
    "\n",
    "main()  #1\n",
    "\n",
    "# 4 5 6 7 8 11 12 13 2 3 9 10 1"
   ]
  },
  {
   "cell_type": "code",
   "execution_count": 3,
   "id": "a7605248",
   "metadata": {},
   "outputs": [
    {
     "name": "stdout",
     "output_type": "stream",
     "text": [
      "Enter a number>>3\n",
      "3\n"
     ]
    }
   ],
   "source": [
    "# Define a subprogram that will ask the user to enter a number and save it as the variable \n",
    "# 'num' . Define another subprogram that will use 'num' and count from 1 to that number\n",
    "\n",
    "# 사용자에게 숫자를 입력하고 변수로 저장하도록 요청하는 하위 프로그램을 정의합니다.\n",
    "# '숫자' . 'num'을 사용하고 1부터 해당 숫자까지 세는 다른 하위 프로그램을 정의하십시오.\n",
    "\n",
    "def countNum(num):\n",
    "    count=0\n",
    "    for i in range(num) :\n",
    "        count +=1\n",
    "    print(count)\n",
    "       \n",
    "def enterNum():\n",
    "    n=int(input('Enter a number>>'))\n",
    "    countNum(n)\n",
    "    \n",
    "def main():\n",
    "    enterNum()\n",
    "    \n",
    "main()\n"
   ]
  },
  {
   "cell_type": "code",
   "execution_count": 2,
   "id": "e8af40bb",
   "metadata": {},
   "outputs": [
    {
     "name": "stdout",
     "output_type": "stream",
     "text": [
      "Enter a number : 3\n",
      "3\n"
     ]
    }
   ],
   "source": [
    "def sub():\n",
    "  num = int(input('Enter a number : '))\n",
    "  sub2(num)\n",
    "\n",
    "def sub2(num):\n",
    "  cnt=0\n",
    "  for i in range(1,num+1):\n",
    "    cnt+=1\n",
    "  sub3(cnt)\n",
    "\n",
    "def sub3(cnt):\n",
    "  print(cnt)\n",
    "\n",
    "sub()\n"
   ]
  },
  {
   "cell_type": "code",
   "execution_count": null,
   "id": "eb2ca2da",
   "metadata": {},
   "outputs": [],
   "source": [
    "# Define a subprogram  that will ask the user to  pick a low and a high  number, \n",
    "# and then  generate a random  number between those  two values and store it in  \n",
    "# a variable called  “comp_num”.  Define another  subprogram that will  give the instruction \n",
    "# “I am  thinking of a number…”  and then ask the user to  guess the number \n",
    "# they  are thinking of.  Define a third  subprogram that will  check to see \n",
    "# if the  comp_num is the same  as the user’s guess. If it  is, \n",
    "# it should display the  message “Correct, you  win”, \n",
    "# otherwise it should  keep looping, telling the  user if they are too low or  too high \n",
    "# and asking them  to guess again until they  guess correctly. \n",
    "\n",
    "# 사용자에게 낮은 숫자와 높은 숫자를 선택하도록 요청하는 하위 프로그램을 정의합니다.\n",
    "# 그런 다음 두 값 사이에 난수를 생성하고 저장합니다.\n",
    "# \"comp_num\"이라는 변수. 지시를 내릴 다른 서브 프로그램을 정의하십시오.\n",
    "# \"나는 숫자를 생각하고 있습니다...\"라고 말한 다음 사용자에게 숫자를 맞춰보라고 합니다.\n",
    "# 그들은 생각하고 있습니다. 확인하기 위해 세 번째 하위 프로그램을 정의하십시오.\n",
    "# comp_num이 사용자의 추측과 동일한 경우. 그렇다면,\n",
    "# \"맞습니다. 이겼습니다\"라는 메시지가 표시되어야 합니다.\n",
    "# 그렇지 않으면 사용자에게 너무 낮거나 너무 높으면 계속 반복해야 합니다.\n",
    "# 그리고 그들이 올바르게 추측할 때까지 다시 추측하도록 요청합니다."
   ]
  },
  {
   "cell_type": "code",
   "execution_count": 10,
   "id": "e6d2e8af",
   "metadata": {},
   "outputs": [
    {
     "name": "stdout",
     "output_type": "stream",
     "text": [
      "low num (0~10)>> 1\n",
      "high num (0~10)>> 5\n",
      "I am thinking of a number\n",
      "guess the number >>1\n",
      "틀렸습니다. 다시 생각하세요\n",
      "추측한 숫자보다 큽니다.\n",
      "I am thinking of a number\n",
      "guess the number >>3\n",
      "틀렸습니다. 다시 생각하세요\n",
      "추측한 숫자보다 작습니다.\n",
      "I am thinking of a number\n",
      "guess the number >>2\n",
      "맞습니다 이겼습니다.\n"
     ]
    }
   ],
   "source": [
    "import random \n",
    "def level(a,b):\n",
    "    return random.randrange(a,b)\n",
    "    \n",
    "def think():\n",
    "    print('I am thinking of a number')\n",
    "    num=int(input('guess the number >>'))\n",
    "    return num\n",
    "    \n",
    "def same(a,b):\n",
    "    if a==b:\n",
    "        print('맞습니다 이겼습니다.')\n",
    "        return False\n",
    "    else :\n",
    "        print('틀렸습니다. 다시 생각하세요')\n",
    "        if a<b:\n",
    "            print('추측한 숫자보다 작습니다.')\n",
    "        else :\n",
    "            print('추측한 숫자보다 큽니다.')\n",
    "        return True\n",
    "    \n",
    "def main():\n",
    "    a=True\n",
    "    num1=int(input('low num (0~10)>> '))\n",
    "    num2=int(input('high num (0~10)>> '))\n",
    "    comp_num=level(num1,num2)\n",
    "    while a:\n",
    "        gnum=think()\n",
    "        a= same(comp_num, gnum)\n",
    "        \n",
    "main()"
   ]
  },
  {
   "cell_type": "code",
   "execution_count": null,
   "id": "366b093c",
   "metadata": {},
   "outputs": [],
   "source": []
  },
  {
   "cell_type": "code",
   "execution_count": null,
   "id": "e1d82f87",
   "metadata": {},
   "outputs": [],
   "source": []
  },
  {
   "cell_type": "code",
   "execution_count": null,
   "id": "1e273eb1",
   "metadata": {},
   "outputs": [],
   "source": []
  },
  {
   "cell_type": "code",
   "execution_count": null,
   "id": "5946b924",
   "metadata": {},
   "outputs": [],
   "source": []
  },
  {
   "cell_type": "code",
   "execution_count": null,
   "id": "9fd99e3c",
   "metadata": {},
   "outputs": [],
   "source": []
  },
  {
   "cell_type": "code",
   "execution_count": null,
   "id": "2c62f6d0",
   "metadata": {},
   "outputs": [],
   "source": []
  }
 ],
 "metadata": {
  "kernelspec": {
   "display_name": "Python 3 (ipykernel)",
   "language": "python",
   "name": "python3"
  },
  "language_info": {
   "codemirror_mode": {
    "name": "ipython",
    "version": 3
   },
   "file_extension": ".py",
   "mimetype": "text/x-python",
   "name": "python",
   "nbconvert_exporter": "python",
   "pygments_lexer": "ipython3",
   "version": "3.9.7"
  }
 },
 "nbformat": 4,
 "nbformat_minor": 5
}
