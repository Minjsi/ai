{
 "cells": [
  {
   "cell_type": "code",
   "execution_count": 4,
   "id": "79c706ff",
   "metadata": {},
   "outputs": [
    {
     "name": "stdout",
     "output_type": "stream",
     "text": [
      "cherry\n",
      "2\n"
     ]
    }
   ],
   "source": [
    "#Tuple, List and Dict\n",
    "#There are several ways that collections of data can be store as a single item.\n",
    "#There if the simpler ones are :\n",
    "#1. Tuple()\n",
    "#2. List[]\n",
    "#3. Dict{}\n",
    "\n",
    "#Tuple : once a tuple is defined you can not change what is stored in it.\n",
    "#(immutable)\n",
    "#List : The contents of a list can be changed while the program is running and\n",
    "#       lists are one of the most common ways to store a collection of data in\n",
    "#       Python(mutable)\n",
    "\n",
    "#Dict : also be changed while the program is running. mutable\n",
    "#       Each value is given an index or key you can define to help identify\n",
    "#       each pice of data\n",
    "\n",
    "fruit_tuple=('apple','banana','cherry','orange')\n",
    "print(fruit_tuple[2])\n",
    "\n",
    "print(fruit_tuple.index('cherry'))\n"
   ]
  },
  {
   "cell_type": "code",
   "execution_count": 3,
   "id": "bc8b044a",
   "metadata": {},
   "outputs": [
    {
     "data": {
      "text/plain": [
       "['John', 'sam']"
      ]
     },
     "execution_count": 3,
     "metadata": {},
     "output_type": "execute_result"
    }
   ],
   "source": [
    "names_list=['John','Tim','sam']\n",
    "\n",
    "del names_list[1]\n",
    "names_list"
   ]
  },
  {
   "cell_type": "code",
   "execution_count": 7,
   "id": "706f8139",
   "metadata": {},
   "outputs": [
    {
     "name": "stdout",
     "output_type": "stream",
     "text": [
      "add a name:Rr\n"
     ]
    },
    {
     "data": {
      "text/plain": [
       "['John', 'sam', 'Rick', 'Rr']"
      ]
     },
     "execution_count": 7,
     "metadata": {},
     "output_type": "execute_result"
    }
   ],
   "source": [
    "names_list.append(input('add a name:' ))\n",
    "names_list"
   ]
  },
  {
   "cell_type": "code",
   "execution_count": 9,
   "id": "f7898534",
   "metadata": {},
   "outputs": [],
   "source": [
    "names_list.sort()\n",
    "#아예 정렬을 바꿔서 저장함"
   ]
  },
  {
   "cell_type": "code",
   "execution_count": 10,
   "id": "80537fc4",
   "metadata": {},
   "outputs": [
    {
     "data": {
      "text/plain": [
       "['John', 'Rick', 'Rr', 'sam']"
      ]
     },
     "execution_count": 10,
     "metadata": {},
     "output_type": "execute_result"
    }
   ],
   "source": [
    "names_list"
   ]
  },
  {
   "cell_type": "code",
   "execution_count": 15,
   "id": "94b9ef29",
   "metadata": {},
   "outputs": [],
   "source": [
    "names_list=['John','Austin','sam']"
   ]
  },
  {
   "cell_type": "code",
   "execution_count": 16,
   "id": "248a687a",
   "metadata": {},
   "outputs": [
    {
     "name": "stdout",
     "output_type": "stream",
     "text": [
      "['Austin', 'John', 'sam']\n"
     ]
    },
    {
     "data": {
      "text/plain": [
       "['John', 'Austin', 'sam']"
      ]
     },
     "execution_count": 16,
     "metadata": {},
     "output_type": "execute_result"
    }
   ],
   "source": [
    "print(sorted(names_list)) #보여줄 때만 정렬\n",
    "names_list"
   ]
  },
  {
   "cell_type": "code",
   "execution_count": 17,
   "id": "870926c5",
   "metadata": {},
   "outputs": [
    {
     "name": "stdout",
     "output_type": "stream",
     "text": [
      "blue\n"
     ]
    }
   ],
   "source": [
    "color = {1:'red', 2:'blue', 3:'green'}\n",
    "\n",
    "#Creats a dict called 'color',where each item is assigned an index of your choosing\n",
    "\n",
    "print(color[2])\n"
   ]
  },
  {
   "cell_type": "code",
   "execution_count": 23,
   "id": "a8ca9259",
   "metadata": {},
   "outputs": [
    {
     "ename": "IndentationError",
     "evalue": "unexpected indent (Temp/ipykernel_16476/2272426538.py, line 6)",
     "output_type": "error",
     "traceback": [
      "\u001b[1;36m  File \u001b[1;32m\"C:\\Users\\Daughter\\AppData\\Local\\Temp/ipykernel_16476/2272426538.py\"\u001b[1;36m, line \u001b[1;32m6\u001b[0m\n\u001b[1;33m    print(names_tuple.index(a))\u001b[0m\n\u001b[1;37m    ^\u001b[0m\n\u001b[1;31mIndentationError\u001b[0m\u001b[1;31m:\u001b[0m unexpected indent\n"
     ]
    }
   ],
   "source": [
    "names_tuple=('korea','japan','america','england','arab')\n",
    "print(names_tuple)\n",
    "\n",
    "a=input('enter a country >> ')\n",
    "\n",
    "for i in names_tuple:\n",
    "    if a==i:\n",
    "        print(names_tuple.index(a))"
   ]
  },
  {
   "cell_type": "code",
   "execution_count": 27,
   "id": "c6f18886",
   "metadata": {},
   "outputs": [
    {
     "name": "stdout",
     "output_type": "stream",
     "text": [
      "('korea', 'japan', 'america', 'england', 'arab')\n",
      "enter a number >> 3\n"
     ]
    },
    {
     "data": {
      "text/plain": [
       "'england'"
      ]
     },
     "execution_count": 27,
     "metadata": {},
     "output_type": "execute_result"
    }
   ],
   "source": [
    "names_tuple=('korea','japan','america','england','arab')\n",
    "print(names_tuple)\n",
    "\n",
    "a=int(input('enter a number >> '))\n",
    "\n",
    "names_tuple[a]"
   ]
  },
  {
   "cell_type": "code",
   "execution_count": 30,
   "id": "e32df4ae",
   "metadata": {},
   "outputs": [
    {
     "name": "stdout",
     "output_type": "stream",
     "text": [
      "add a sport : 수영\n",
      "['농구', '수영', '축구']\n"
     ]
    }
   ],
   "source": [
    "sports=['축구', '농구']\n",
    "\n",
    "sports.append(input('add a sport : '))\n",
    "\n",
    "print(sorted(sports))\n"
   ]
  },
  {
   "cell_type": "code",
   "execution_count": 31,
   "id": "8ab270e6",
   "metadata": {},
   "outputs": [
    {
     "name": "stdout",
     "output_type": "stream",
     "text": [
      "Enter a food you like : chicken\n",
      "Enter a food you like : ramen\n",
      "Enter a food you like : pizza\n",
      "Enter a food you like : maratang\n",
      "{1: 'chicken', 2: 'ramen', 3: 'pizza', 4: 'maratang'}\n",
      "Which of these do you want to get rid of?2\n",
      "['chicken', 'maratang', 'pizza']\n"
     ]
    }
   ],
   "source": [
    "# Ask the user to enter four of their favourite foods and store them \n",
    "# in a dict so that they are indexed with number starting from 1.\n",
    "# Display the dict in full, showing the index number and the item.\n",
    "# Ask them which they want to get rid of and remove it from the list\n",
    "# Sort the remaining data(values) and display.\n",
    "\n",
    "\n",
    "food_dict = {}\n",
    "food1 = input('Enter a food you like : ')\n",
    "food_dict[1] = food1\n",
    "food2 = input('Enter a food you like : ')\n",
    "food_dict[2] = food2\n",
    "food3 = input('Enter a food you like : ')\n",
    "food_dict[3] = food3\n",
    "food4 = input('Enter a food you like : ')\n",
    "food_dict[4] = food4\n",
    "\n",
    "print(food_dict)\n",
    "\n",
    "dislike=int(input('Which of these do you want to get rid of?'))\n",
    "del food_dict[dislike]\n",
    "print(sorted(food_dict.values()))\n",
    "\n"
   ]
  },
  {
   "cell_type": "code",
   "execution_count": null,
   "id": "11e8aa71",
   "metadata": {},
   "outputs": [],
   "source": []
  },
  {
   "cell_type": "code",
   "execution_count": null,
   "id": "29ed31bf",
   "metadata": {},
   "outputs": [],
   "source": []
  },
  {
   "cell_type": "code",
   "execution_count": null,
   "id": "22996770",
   "metadata": {},
   "outputs": [],
   "source": []
  },
  {
   "cell_type": "code",
   "execution_count": null,
   "id": "4e73fd6c",
   "metadata": {},
   "outputs": [],
   "source": []
  },
  {
   "cell_type": "code",
   "execution_count": null,
   "id": "c7b95975",
   "metadata": {},
   "outputs": [],
   "source": []
  },
  {
   "cell_type": "code",
   "execution_count": null,
   "id": "aa954704",
   "metadata": {},
   "outputs": [],
   "source": []
  },
  {
   "cell_type": "code",
   "execution_count": null,
   "id": "d81cb57b",
   "metadata": {},
   "outputs": [],
   "source": []
  },
  {
   "cell_type": "code",
   "execution_count": null,
   "id": "489d3f2e",
   "metadata": {},
   "outputs": [],
   "source": []
  },
  {
   "cell_type": "code",
   "execution_count": null,
   "id": "19b9cd37",
   "metadata": {},
   "outputs": [],
   "source": []
  },
  {
   "cell_type": "code",
   "execution_count": null,
   "id": "c3480dd1",
   "metadata": {},
   "outputs": [],
   "source": []
  }
 ],
 "metadata": {
  "kernelspec": {
   "display_name": "Python 3 (ipykernel)",
   "language": "python",
   "name": "python3"
  },
  "language_info": {
   "codemirror_mode": {
    "name": "ipython",
    "version": 3
   },
   "file_extension": ".py",
   "mimetype": "text/x-python",
   "name": "python",
   "nbconvert_exporter": "python",
   "pygments_lexer": "ipython3",
   "version": "3.9.7"
  }
 },
 "nbformat": 4,
 "nbformat_minor": 5
}
