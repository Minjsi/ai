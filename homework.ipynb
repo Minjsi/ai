{
 "cells": [
  {
   "cell_type": "code",
   "execution_count": 12,
   "id": "0742f7f5",
   "metadata": {},
   "outputs": [
    {
     "name": "stdout",
     "output_type": "stream",
     "text": [
      "Hello world\n",
      "\n",
      "Mary's cosmetics\n",
      "\n",
      "신씨가 소리질렀다. \"도둑이야\".\n",
      "\n",
      " \"C:\\Windows\"\n"
     ]
    }
   ],
   "source": [
    "#화면에 Hello World 문자열을 출력하세요.\n",
    "\n",
    "print('Hello world')\n",
    "print()\n",
    "\n",
    "print(\"Mary's cosmetics\")\n",
    "print()\n",
    "\n",
    "print('신씨가 소리질렀다. \"도둑이야\".')\n",
    "print()\n",
    "\n",
    "print(' \"C:\\Windows\"')"
   ]
  },
  {
   "cell_type": "code",
   "execution_count": 13,
   "id": "b7c416b0",
   "metadata": {},
   "outputs": [
    {
     "name": "stdout",
     "output_type": "stream",
     "text": [
      "안녕하세요.\n",
      " 만나서\t\t 반갑습니다.\n",
      "오늘은 일요일\n"
     ]
    }
   ],
   "source": [
    "#다음 코드를 실행해보고 \\t 와 \\n 의 역할을 설명해보세요.\n",
    "print(\"안녕하세요.\\n 만나서\\t\\t 반갑습니다.\")\n",
    "#  \\t >>tab 들여쓰기\n",
    "#  \\n >> 줄바꿈\n",
    "\n",
    "\n",
    "# ,>>띄어쓰기\n",
    "print (\"오늘은\", \"일요일\")\n"
   ]
  },
  {
   "cell_type": "code",
   "execution_count": 18,
   "id": "831f5541",
   "metadata": {},
   "outputs": [
    {
     "name": "stdout",
     "output_type": "stream",
     "text": [
      "naver/kakao/sk/samsung\n",
      "\n",
      "first\n",
      "second\n",
      "\n",
      "1.6666666666666667\n",
      "\n",
      "500000\n"
     ]
    }
   ],
   "source": [
    "print('naver/kakao/sk/samsung')\n",
    "print()\n",
    "print(\"first\");print(\"second\")\n",
    "print()\n",
    "\n",
    "#5/3 의 결과를 화면에 출력하세요\n",
    "print(5/3)\n",
    "print()\n",
    "#삼성전자라는 변수로 50,000 원을 바인딩해보세요. \n",
    "#삼성전자 주식 10 주를 보유하고 있을 때\n",
    "#총 평가금액을 출력하세요.\n",
    "\n",
    "삼성전자=50000\n",
    "print(삼성전자*10)\n"
   ]
  },
  {
   "cell_type": "code",
   "execution_count": 22,
   "id": "f3d282a2",
   "metadata": {},
   "outputs": [
    {
     "name": "stdout",
     "output_type": "stream",
     "text": [
      "298조\n",
      "50,000원\n",
      "15.79\n"
     ]
    }
   ],
   "source": [
    "시가총액 = \"298조\"\n",
    "현재가= \"50,000원\"\n",
    "PER=\"15.79\"\n",
    "print(시가총액)\n",
    "print(현재가)\n",
    "print(PER)"
   ]
  },
  {
   "cell_type": "code",
   "execution_count": 25,
   "id": "1ba0aff0",
   "metadata": {},
   "outputs": [
    {
     "name": "stdout",
     "output_type": "stream",
     "text": [
      "hello! python\n"
     ]
    }
   ],
   "source": [
    "s = \"hello\"\n",
    "t = \"python\"\n",
    "\n",
    "print(f'{s}! {t}')"
   ]
  },
  {
   "cell_type": "code",
   "execution_count": 27,
   "id": "e0300ce3",
   "metadata": {},
   "outputs": [
    {
     "name": "stdout",
     "output_type": "stream",
     "text": [
      "8\n"
     ]
    }
   ],
   "source": [
    " print(2 + 2 * 3) "
   ]
  },
  {
   "cell_type": "code",
   "execution_count": 35,
   "id": "3848d419",
   "metadata": {},
   "outputs": [
    {
     "name": "stdout",
     "output_type": "stream",
     "text": [
      "\n",
      "<class 'int'>\n"
     ]
    }
   ],
   "source": [
    "num_str = \"720\"\n",
    "a=int(num_str)\n",
    "print()\n",
    "print(type(a))"
   ]
  },
  {
   "cell_type": "code",
   "execution_count": 42,
   "id": "4f55fb0f",
   "metadata": {},
   "outputs": [
    {
     "name": "stdout",
     "output_type": "stream",
     "text": [
      "<class 'int'>\n",
      "<class 'str'>\n"
     ]
    }
   ],
   "source": [
    "#정수 100 을 문자열 '100'으로 변환해보세요\n",
    "a=int(100)\n",
    "print(type(a))\n",
    "\n",
    "print(type(str(a)))"
   ]
  },
  {
   "cell_type": "code",
   "execution_count": 46,
   "id": "22b1277c",
   "metadata": {},
   "outputs": [
    {
     "name": "stdout",
     "output_type": "stream",
     "text": [
      "2020,2021,2022\n"
     ]
    }
   ],
   "source": [
    "#year 라는 변수가 문자열 타입의 연도를 바인딩하고 있습니다. \n",
    "#이를 정수로 변환한 후 최근3 년의 연도를 화면에 출력해보세요.\n",
    "\n",
    "year=\"2022\"\n",
    "print(f'{int(year)-2},{int(year)-1},{int(year)}')\n"
   ]
  },
  {
   "cell_type": "code",
   "execution_count": 51,
   "id": "d2fc8063",
   "metadata": {},
   "outputs": [
    {
     "name": "stdout",
     "output_type": "stream",
     "text": [
      "1749024\n"
     ]
    }
   ],
   "source": [
    "#에이컨이 월 48,584 원에 무이자 36 개월의 조건으로 홈쇼핑에서 판매되고 있습니다. \n",
    "#총금액은 계산한 후 이를 화면에 출력해보세요. (변수사용하기)\n",
    "\n",
    "air=48584\n",
    "print(air*36)"
   ]
  },
  {
   "cell_type": "code",
   "execution_count": 58,
   "id": "f0b1b900",
   "metadata": {},
   "outputs": [
    {
     "name": "stdout",
     "output_type": "stream",
     "text": [
      "['닥터 스트레인지', '스플릿', '럭키', '배트맨']\n",
      "['닥터 스트레인지', '슈퍼맨', '스플릿', '럭키', '배트맨']\n",
      "['닥터 스트레인지', '슈퍼맨', '럭키']\n"
     ]
    }
   ],
   "source": [
    "#homework2\n",
    "\n",
    "#2016 년 11 월 영화 예매 순위 기준 top3 는 다음과 같습니다. \n",
    "#영화 제목을 movie_rank 이름의 리스트에 저장해보세요. (순위 정보는 저장하지 않습니다.)\n",
    "\n",
    "movie_rank=[\"닥터 스트레인지\", \"스플릿\",\"럭키\"]\n",
    "\n",
    "movie_rank.append(\"배트맨\")\n",
    "\n",
    "print(movie_rank)\n",
    "\n",
    "movie_rank.insert(1,\"슈퍼맨\")\n",
    "print(movie_rank)\n",
    "\n",
    "del movie_rank[2]\n",
    "del movie_rank[-1]\n",
    "\n",
    "print(movie_rank)"
   ]
  },
  {
   "cell_type": "code",
   "execution_count": 61,
   "id": "82297315",
   "metadata": {},
   "outputs": [
    {
     "name": "stdout",
     "output_type": "stream",
     "text": [
      "['C', 'C++', 'JAVA', 'Python', 'Go', 'C#']\n"
     ]
    }
   ],
   "source": [
    "lang1 = [\"C\", \"C++\", \"JAVA\"]\n",
    "lang2 = [\"Python\", \"Go\", \"C#\"]\n",
    "\n",
    "langs=lang1+lang2\n",
    "print(langs)\n"
   ]
  },
  {
   "cell_type": "code",
   "execution_count": 69,
   "id": "113793b4",
   "metadata": {},
   "outputs": [
    {
     "name": "stdout",
     "output_type": "stream",
     "text": [
      "max : 7\n",
      "min : 1\n",
      "\n",
      "sum : 15\n"
     ]
    }
   ],
   "source": [
    "nums = [1, 2, 3, 4, 5, 6, 7]\n",
    "\n",
    "print(f'max : {max(nums)}')\n",
    "print(f'min : {min(nums)}')\n",
    "print()\n",
    "nums = [1, 2, 3, 4, 5]\n",
    "print(f'sum : {sum(nums)}')"
   ]
  },
  {
   "cell_type": "code",
   "execution_count": 76,
   "id": "c898fc62",
   "metadata": {},
   "outputs": [
    {
     "name": "stdout",
     "output_type": "stream",
     "text": [
      "12\n",
      "3\n"
     ]
    }
   ],
   "source": [
    "cook = [\"피자\", \"김밥\", \"만두\", \"양념치킨\", \"족발\", \"피자\", \"김치만두\", \n",
    "\"쫄면\", \"쏘세지\", \"라면\", \"팥빙수\", \"김치전\"]\n",
    "\n",
    "print(len(cook))\n",
    "\n",
    "arr=\"123\"\n",
    "print(len(arr))"
   ]
  },
  {
   "cell_type": "code",
   "execution_count": 89,
   "id": "33fd2bde",
   "metadata": {},
   "outputs": [
    {
     "name": "stdout",
     "output_type": "stream",
     "text": [
      "3.0\n",
      "3.0\n"
     ]
    }
   ],
   "source": [
    "import numpy\n",
    "nums = [1, 2, 3, 4, 5]\n",
    "\n",
    "avg=sum(nums)/len(nums)\n",
    "print(avg)\n",
    "\n",
    "print(numpy.mean(nums))"
   ]
  },
  {
   "cell_type": "code",
   "execution_count": 94,
   "id": "7762f5db",
   "metadata": {},
   "outputs": [
    {
     "name": "stdout",
     "output_type": "stream",
     "text": [
      "문자를 입력하세요>>A\n",
      "a\n"
     ]
    }
   ],
   "source": [
    "a=input('문자를 입력하세요>>')\n",
    "\n",
    "if a.islower() :\n",
    "    print(a.upper())\n",
    "else:\n",
    "    print(a.lower())"
   ]
  },
  {
   "cell_type": "code",
   "execution_count": 95,
   "id": "0998dd86",
   "metadata": {},
   "outputs": [
    {
     "name": "stdout",
     "output_type": "stream",
     "text": [
      "학점을 입력하세요 >>> 51\n",
      "grade is C\n"
     ]
    }
   ],
   "source": [
    "score=int(input('학점을 입력하세요 >>> '))\n",
    "gr=\"\"\n",
    "if score>=81:\n",
    "    gr=\"A\"\n",
    "elif score>=61:\n",
    "    gr=\"B\"\n",
    "elif score>=41:\n",
    "    gr=\"C\"\n",
    "elif score>=21:\n",
    "    gr=\"D\"\n",
    "else:\n",
    "    gr=\"E\"\n",
    "\n",
    "print(f'grade is {gr}')"
   ]
  },
  {
   "cell_type": "code",
   "execution_count": 125,
   "id": "58f62c8c",
   "metadata": {},
   "outputs": [
    {
     "name": "stdout",
     "output_type": "stream",
     "text": [
      "입력: 100 달러\n",
      "116700.0 원\n"
     ]
    }
   ],
   "source": [
    "#사용자로부터 달러, 엔, 유로, 또는 위안 금액을 입력받은 후 \n",
    "#이를 원으로 변환하는 프로그램을 작성하라. 각 통화별 환율은 다음과 같다. \n",
    "#사용자는 100 달러, 1000 엔, 13 유로, 100 위안과 같이 \n",
    "#금액과 통화명 사이에 공백을 넣어 입력한다고 가정한다.\n",
    "\n",
    "#cash=input('금액을 입력하시오(금액과 통화명 사이에 공백 필수)>> ')\n",
    "#a=int(cash[0:-2])\n",
    "#if cash[-2:-1]=='달러':\n",
    "#    change=a*1167\n",
    "#elif cash[-1]=='엔':\n",
    "#    change=a*1096\n",
    "#elif cash[-2:-1]=='유로':\n",
    "#    change=a*1268\n",
    "#elif cash[-2:-1]=='위안':\n",
    "#    change=a*171\n",
    "\n",
    "#print('%.2f'%change,' 원')\n",
    "\n",
    "#답\n",
    "환율 = {\"달러\": 1167,\n",
    "         \"엔\": 1.096, \n",
    "         \"유로\": 1268, \n",
    "         \"위안\": 171}\n",
    "\n",
    "user = input(\"입력: \")\n",
    "num, currency = user.split()\n",
    "print(float(num) * 환율[currency], \"원\")"
   ]
  },
  {
   "cell_type": "code",
   "execution_count": 131,
   "id": "8146fe4f",
   "metadata": {},
   "outputs": [
    {
     "name": "stdout",
     "output_type": "stream",
     "text": [
      "숫자를 입력하세요 >> 4\n",
      "숫자를 입력하세요 >> 2\n",
      "숫자를 입력하세요 >> 1\n",
      "4\n"
     ]
    }
   ],
   "source": [
    "a=int(input('숫자를 입력하세요 >> '))\n",
    "b=int(input('숫자를 입력하세요 >> '))\n",
    "c=int(input('숫자를 입력하세요 >> '))\n",
    "\n",
    "m=0\n",
    "\n",
    "if a>b and a>c :\n",
    "    m=a\n",
    "elif b>c:\n",
    "    m=b\n",
    "else:\n",
    "    m=c\n",
    "print(m)"
   ]
  },
  {
   "cell_type": "code",
   "execution_count": 135,
   "id": "24a658df",
   "metadata": {},
   "outputs": [
    {
     "name": "stdout",
     "output_type": "stream",
     "text": [
      "휴대전화번호 입력 >>> 011-5555-1145\n",
      "당신은 s 사용자입니다.\n"
     ]
    }
   ],
   "source": [
    "dict = {\n",
    "    \"011\" :\"s\",\n",
    "    \"016\" :\"k\",\n",
    "    \"019\" :\"L\",\n",
    "    \"010\" :\"un\"\n",
    "}\n",
    "num=input('휴대전화번호 입력 >>> ')\n",
    "#num, currency = user.split()\n",
    "fn, mn, en=num.split('-')\n",
    "print(f'당신은 {dict[fn]} 사용자입니다.')\n"
   ]
  },
  {
   "cell_type": "code",
   "execution_count": 143,
   "id": "7bbae8be",
   "metadata": {},
   "outputs": [
    {
     "name": "stdout",
     "output_type": "stream",
     "text": [
      "우편번호를 입력하세요 >>> 01144\n",
      "강북구\n"
     ]
    }
   ],
   "source": [
    "num=input('우편번호를 입력하세요 >>> ')\n",
    "\n",
    "address={\n",
    "    \"0\":\"강북구\",\n",
    "    \"1\":\"강북구\",\n",
    "    \"2\":\"강북구\",\n",
    "    \"3\":\"도봉구\",\n",
    "    \"4\":\"도봉구\",\n",
    "    \"5\":\"도봉구\",\n",
    "    \"6\":\"노원구\",\n",
    "    \"7\":\"노원구\",\n",
    "    \"8\":\"노원구\",\n",
    "    \"9\":\"노원구\"\n",
    "}\n",
    "print (address[num[2]])\n",
    "\n",
    "\n",
    "#if num[2]== 0 or 1 or 2 :\n",
    "#    address=\"강북구\"\n",
    "#elif num[2]==3 or 4 or 5:\n",
    "#    address=\"도봉구\"\n",
    "#elif num[2]== 6 or 7 or 8 or 9:\n",
    "#    address=\"노원구\"   \n",
    "#print (address)"
   ]
  },
  {
   "cell_type": "code",
   "execution_count": 147,
   "id": "874c02bb",
   "metadata": {},
   "outputs": [
    {
     "name": "stdout",
     "output_type": "stream",
     "text": [
      "주민등록번호를 입력하세요 >>> 415478-1234567\n",
      "남자\n"
     ]
    }
   ],
   "source": [
    "num=input('주민등록번호를 입력하세요 >>> ')\n",
    "\n",
    "sex={\n",
    "    \"1\":\"남자\",\n",
    "    \"2\":\"여자\",\n",
    "    \"3\":\"남자\",\n",
    "    \"4\":\"여자\"\n",
    "}\n",
    "birth, end = num.split('-')\n",
    "print(sex[end[0]])"
   ]
  },
  {
   "cell_type": "code",
   "execution_count": 149,
   "id": "b39d2625",
   "metadata": {},
   "outputs": [
    {
     "name": "stdout",
     "output_type": "stream",
     "text": [
      "주민등록번호를 입력하세요 >>> 861010-1015210\n",
      "서울입니다.\n"
     ]
    }
   ],
   "source": [
    "num=input('주민등록번호를 입력하세요 >>> ')\n",
    "\n",
    "birth, end = num.split('-')\n",
    "a=int(end[1:3])\n",
    "if a<9:\n",
    "    print('서울입니다.')\n",
    "else :\n",
    "    print('아님')"
   ]
  },
  {
   "cell_type": "code",
   "execution_count": 186,
   "id": "711075b9",
   "metadata": {},
   "outputs": [
    {
     "name": "stdout",
     "output_type": "stream",
     "text": [
      "주민등록번호: 821010-1635210\n"
     ]
    },
    {
     "ename": "TypeError",
     "evalue": "string indices must be integers",
     "output_type": "error",
     "traceback": [
      "\u001b[1;31m---------------------------------------------------------------------------\u001b[0m",
      "\u001b[1;31mTypeError\u001b[0m                                 Traceback (most recent call last)",
      "\u001b[1;32m~\\AppData\\Local\\Temp/ipykernel_23704/2569018395.py\u001b[0m in \u001b[0;36m<module>\u001b[1;34m\u001b[0m\n\u001b[0;32m     15\u001b[0m     \u001b[1;32mif\u001b[0m \u001b[0mi\u001b[0m \u001b[1;33m==\u001b[0m \u001b[1;36m6\u001b[0m \u001b[1;33m:\u001b[0m\u001b[1;33m\u001b[0m\u001b[1;33m\u001b[0m\u001b[0m\n\u001b[0;32m     16\u001b[0m         \u001b[0mi\u001b[0m\u001b[1;33m+=\u001b[0m\u001b[1;36m1\u001b[0m\u001b[1;33m\u001b[0m\u001b[1;33m\u001b[0m\u001b[0m\n\u001b[1;32m---> 17\u001b[1;33m     \u001b[0mcal\u001b[0m\u001b[1;33m=\u001b[0m\u001b[0mint\u001b[0m\u001b[1;33m(\u001b[0m\u001b[0mnum\u001b[0m\u001b[1;33m[\u001b[0m\u001b[0mi\u001b[0m\u001b[1;33m]\u001b[0m\u001b[1;33m)\u001b[0m\u001b[1;33m*\u001b[0m\u001b[0ma\u001b[0m\u001b[1;33m\u001b[0m\u001b[1;33m\u001b[0m\u001b[0m\n\u001b[0m\u001b[0;32m     18\u001b[0m     \u001b[0ma\u001b[0m\u001b[1;33m+=\u001b[0m\u001b[1;36m1\u001b[0m\u001b[1;33m\u001b[0m\u001b[1;33m\u001b[0m\u001b[0m\n\u001b[0;32m     19\u001b[0m     \u001b[1;32mif\u001b[0m \u001b[0ma\u001b[0m\u001b[1;33m==\u001b[0m\u001b[1;36m9\u001b[0m\u001b[1;33m:\u001b[0m\u001b[1;33m\u001b[0m\u001b[1;33m\u001b[0m\u001b[0m\n",
      "\u001b[1;31mTypeError\u001b[0m: string indices must be integers"
     ]
    }
   ],
   "source": [
    "\n",
    "num = input(\"주민등록번호: \")\n",
    "#sum1 = int(num[0]) * 2 + int(num[1]) * 3 + int(num[2]) * 4 +int(num[3]) * 5 + int(num[4]) * 6 + \\\n",
    "# int(num[5]) * 7 + int(num[7]) * 8 + int(num[8]) * 9 +int(num[9]) * 2 + int(num[10])* 3 + \\\n",
    "# int(num[11])* 4 + int(num[12]) * 5\n",
    "#sum2 = 11 - (sum1 % 11)\n",
    "#sum3 = str(sum2)\n",
    "#if num[-1] == sum3[-1]:\n",
    "# print(\"유효한 주민등록번호입니다.\")\n",
    "#else:\n",
    "# print(\"유효하지 않은 주민등록번호입니다.\")\n",
    "\n",
    "\n"
   ]
  },
  {
   "cell_type": "code",
   "execution_count": 191,
   "id": "6a2c4ecc",
   "metadata": {},
   "outputs": [
    {
     "name": "stdout",
     "output_type": "stream",
     "text": [
      "상승장\n"
     ]
    }
   ],
   "source": [
    "import requests\n",
    "btc = requests.get(\"https://api.bithumb.com/public/ticker/\").json()['data']\n",
    "\n",
    "변동폭 = float(btc['max_price']) - float(btc['min_price'])\n",
    "시가 = float(btc['opening_price'])\n",
    "최고가 = float(btc['max_price'])\n",
    "if (시가+변동폭) > 최고가:\n",
    "  print(\"상승장\")\n",
    "else:\n",
    "  print(\"하락장\")"
   ]
  },
  {
   "cell_type": "code",
   "execution_count": null,
   "id": "3515ad1a",
   "metadata": {},
   "outputs": [],
   "source": []
  },
  {
   "cell_type": "code",
   "execution_count": null,
   "id": "c8cede6b",
   "metadata": {},
   "outputs": [],
   "source": []
  },
  {
   "cell_type": "code",
   "execution_count": null,
   "id": "99efccb9",
   "metadata": {},
   "outputs": [],
   "source": []
  }
 ],
 "metadata": {
  "kernelspec": {
   "display_name": "Python 3 (ipykernel)",
   "language": "python",
   "name": "python3"
  },
  "language_info": {
   "codemirror_mode": {
    "name": "ipython",
    "version": 3
   },
   "file_extension": ".py",
   "mimetype": "text/x-python",
   "name": "python",
   "nbconvert_exporter": "python",
   "pygments_lexer": "ipython3",
   "version": "3.9.7"
  }
 },
 "nbformat": 4,
 "nbformat_minor": 5
}
