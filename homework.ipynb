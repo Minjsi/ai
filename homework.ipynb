{
 "cells": [
  {
   "cell_type": "code",
   "execution_count": 12,
   "id": "08a7b038",
   "metadata": {},
   "outputs": [
    {
     "name": "stdout",
     "output_type": "stream",
     "text": [
      "Hello world\n",
      "\n",
      "Mary's cosmetics\n",
      "\n",
      "신씨가 소리질렀다. \"도둑이야\".\n",
      "\n",
      " \"C:\\Windows\"\n"
     ]
    }
   ],
   "source": [
    "#화면에 Hello World 문자열을 출력하세요.\n",
    "\n",
    "print('Hello world')\n",
    "print()\n",
    "\n",
    "print(\"Mary's cosmetics\")\n",
    "print()\n",
    "\n",
    "print('신씨가 소리질렀다. \"도둑이야\".')\n",
    "print()\n",
    "\n",
    "print(' \"C:\\Windows\"')"
   ]
  },
  {
   "cell_type": "code",
   "execution_count": 13,
   "id": "71437cfc",
   "metadata": {},
   "outputs": [
    {
     "name": "stdout",
     "output_type": "stream",
     "text": [
      "안녕하세요.\n",
      " 만나서\t\t 반갑습니다.\n",
      "오늘은 일요일\n"
     ]
    }
   ],
   "source": [
    "#다음 코드를 실행해보고 \\t 와 \\n 의 역할을 설명해보세요.\n",
    "print(\"안녕하세요.\\n 만나서\\t\\t 반갑습니다.\")\n",
    "#  \\t >>tab 들여쓰기\n",
    "#  \\n >> 줄바꿈\n",
    "\n",
    "\n",
    "# ,>>띄어쓰기\n",
    "print (\"오늘은\", \"일요일\")\n"
   ]
  },
  {
   "cell_type": "code",
   "execution_count": 18,
   "id": "63d18390",
   "metadata": {},
   "outputs": [
    {
     "name": "stdout",
     "output_type": "stream",
     "text": [
      "naver/kakao/sk/samsung\n",
      "\n",
      "first\n",
      "second\n",
      "\n",
      "1.6666666666666667\n",
      "\n",
      "500000\n"
     ]
    }
   ],
   "source": [
    "print('naver/kakao/sk/samsung')\n",
    "print()\n",
    "print(\"first\");print(\"second\")\n",
    "print()\n",
    "\n",
    "#5/3 의 결과를 화면에 출력하세요\n",
    "print(5/3)\n",
    "print()\n",
    "#삼성전자라는 변수로 50,000 원을 바인딩해보세요. \n",
    "#삼성전자 주식 10 주를 보유하고 있을 때\n",
    "#총 평가금액을 출력하세요.\n",
    "\n",
    "삼성전자=50000\n",
    "print(삼성전자*10)\n"
   ]
  },
  {
   "cell_type": "code",
   "execution_count": 22,
   "id": "ad1b6001",
   "metadata": {},
   "outputs": [
    {
     "name": "stdout",
     "output_type": "stream",
     "text": [
      "298조\n",
      "50,000원\n",
      "15.79\n"
     ]
    }
   ],
   "source": [
    "시가총액 = \"298조\"\n",
    "현재가= \"50,000원\"\n",
    "PER=\"15.79\"\n",
    "print(시가총액)\n",
    "print(현재가)\n",
    "print(PER)"
   ]
  },
  {
   "cell_type": "code",
   "execution_count": 25,
   "id": "d037fb4b",
   "metadata": {},
   "outputs": [
    {
     "name": "stdout",
     "output_type": "stream",
     "text": [
      "hello! python\n"
     ]
    }
   ],
   "source": [
    "s = \"hello\"\n",
    "t = \"python\"\n",
    "\n",
    "print(f'{s}! {t}')"
   ]
  },
  {
   "cell_type": "code",
   "execution_count": 27,
   "id": "5b831c3c",
   "metadata": {},
   "outputs": [
    {
     "name": "stdout",
     "output_type": "stream",
     "text": [
      "8\n"
     ]
    }
   ],
   "source": [
    " print(2 + 2 * 3) "
   ]
  },
  {
   "cell_type": "code",
   "execution_count": 35,
   "id": "4ead5dd6",
   "metadata": {},
   "outputs": [
    {
     "name": "stdout",
     "output_type": "stream",
     "text": [
      "\n",
      "<class 'int'>\n"
     ]
    }
   ],
   "source": [
    "num_str = \"720\"\n",
    "a=int(num_str)\n",
    "print()\n",
    "print(type(a))"
   ]
  },
  {
   "cell_type": "code",
   "execution_count": 42,
   "id": "f0450e52",
   "metadata": {},
   "outputs": [
    {
     "name": "stdout",
     "output_type": "stream",
     "text": [
      "<class 'int'>\n",
      "<class 'str'>\n"
     ]
    }
   ],
   "source": [
    "#정수 100 을 문자열 '100'으로 변환해보세요\n",
    "a=int(100)\n",
    "print(type(a))\n",
    "\n",
    "print(type(str(a)))"
   ]
  },
  {
   "cell_type": "code",
   "execution_count": 46,
   "id": "d800874d",
   "metadata": {},
   "outputs": [
    {
     "name": "stdout",
     "output_type": "stream",
     "text": [
      "2020,2021,2022\n"
     ]
    }
   ],
   "source": [
    "#year 라는 변수가 문자열 타입의 연도를 바인딩하고 있습니다. \n",
    "#이를 정수로 변환한 후 최근3 년의 연도를 화면에 출력해보세요.\n",
    "\n",
    "year=\"2022\"\n",
    "print(f'{int(year)-2},{int(year)-1},{int(year)}')\n"
   ]
  },
  {
   "cell_type": "code",
   "execution_count": 51,
   "id": "8493a686",
   "metadata": {},
   "outputs": [
    {
     "name": "stdout",
     "output_type": "stream",
     "text": [
      "1749024\n"
     ]
    }
   ],
   "source": [
    "#에이컨이 월 48,584 원에 무이자 36 개월의 조건으로 홈쇼핑에서 판매되고 있습니다. \n",
    "#총금액은 계산한 후 이를 화면에 출력해보세요. (변수사용하기)\n",
    "\n",
    "air=48584\n",
    "print(air*36)"
   ]
  },
  {
   "cell_type": "code",
   "execution_count": 58,
   "id": "cc8533be",
   "metadata": {},
   "outputs": [
    {
     "name": "stdout",
     "output_type": "stream",
     "text": [
      "['닥터 스트레인지', '스플릿', '럭키', '배트맨']\n",
      "['닥터 스트레인지', '슈퍼맨', '스플릿', '럭키', '배트맨']\n",
      "['닥터 스트레인지', '슈퍼맨', '럭키']\n"
     ]
    }
   ],
   "source": [
    "#homework2\n",
    "\n",
    "#2016 년 11 월 영화 예매 순위 기준 top3 는 다음과 같습니다. \n",
    "#영화 제목을 movie_rank 이름의 리스트에 저장해보세요. (순위 정보는 저장하지 않습니다.)\n",
    "\n",
    "movie_rank=[\"닥터 스트레인지\", \"스플릿\",\"럭키\"]\n",
    "\n",
    "movie_rank.append(\"배트맨\")\n",
    "\n",
    "print(movie_rank)\n",
    "\n",
    "movie_rank.insert(1,\"슈퍼맨\")\n",
    "print(movie_rank)\n",
    "\n",
    "del movie_rank[2]\n",
    "del movie_rank[-1]\n",
    "\n",
    "print(movie_rank)"
   ]
  },
  {
   "cell_type": "code",
   "execution_count": 61,
   "id": "74d87b99",
   "metadata": {},
   "outputs": [
    {
     "name": "stdout",
     "output_type": "stream",
     "text": [
      "['C', 'C++', 'JAVA', 'Python', 'Go', 'C#']\n"
     ]
    }
   ],
   "source": [
    "lang1 = [\"C\", \"C++\", \"JAVA\"]\n",
    "lang2 = [\"Python\", \"Go\", \"C#\"]\n",
    "\n",
    "langs=lang1+lang2\n",
    "print(langs)\n"
   ]
  },
  {
   "cell_type": "code",
   "execution_count": 69,
   "id": "ad1d8bb0",
   "metadata": {},
   "outputs": [
    {
     "name": "stdout",
     "output_type": "stream",
     "text": [
      "max : 7\n",
      "min : 1\n",
      "\n",
      "sum : 15\n"
     ]
    }
   ],
   "source": [
    "nums = [1, 2, 3, 4, 5, 6, 7]\n",
    "\n",
    "print(f'max : {max(nums)}')\n",
    "print(f'min : {min(nums)}')\n",
    "print()\n",
    "nums = [1, 2, 3, 4, 5]\n",
    "print(f'sum : {sum(nums)}')"
   ]
  },
  {
   "cell_type": "code",
   "execution_count": 76,
   "id": "2bd383fa",
   "metadata": {},
   "outputs": [
    {
     "name": "stdout",
     "output_type": "stream",
     "text": [
      "12\n",
      "3\n"
     ]
    }
   ],
   "source": [
    "cook = [\"피자\", \"김밥\", \"만두\", \"양념치킨\", \"족발\", \"피자\", \"김치만두\", \n",
    "\"쫄면\", \"쏘세지\", \"라면\", \"팥빙수\", \"김치전\"]\n",
    "\n",
    "print(len(cook))\n",
    "\n",
    "arr=\"123\"\n",
    "print(len(arr))"
   ]
  },
  {
   "cell_type": "code",
   "execution_count": 89,
   "id": "1da79ca1",
   "metadata": {},
   "outputs": [
    {
     "name": "stdout",
     "output_type": "stream",
     "text": [
      "3.0\n",
      "3.0\n"
     ]
    }
   ],
   "source": [
    "import numpy\n",
    "nums = [1, 2, 3, 4, 5]\n",
    "\n",
    "avg=sum(nums)/len(nums)\n",
    "print(avg)\n",
    "\n",
    "print(numpy.mean(nums))"
   ]
  },
  {
   "cell_type": "code",
   "execution_count": 94,
   "id": "67672486",
   "metadata": {},
   "outputs": [
    {
     "name": "stdout",
     "output_type": "stream",
     "text": [
      "문자를 입력하세요>>A\n",
      "a\n"
     ]
    }
   ],
   "source": [
    "a=input('문자를 입력하세요>>')\n",
    "\n",
    "if a.islower() :\n",
    "    print(a.upper())\n",
    "else:\n",
    "    print(a.lower())"
   ]
  },
  {
   "cell_type": "code",
   "execution_count": 95,
   "id": "3189e8c5",
   "metadata": {},
   "outputs": [
    {
     "name": "stdout",
     "output_type": "stream",
     "text": [
      "학점을 입력하세요 >>> 51\n",
      "grade is C\n"
     ]
    }
   ],
   "source": [
    "score=int(input('학점을 입력하세요 >>> '))\n",
    "gr=\"\"\n",
    "if score>=81:\n",
    "    gr=\"A\"\n",
    "elif score>=61:\n",
    "    gr=\"B\"\n",
    "elif score>=41:\n",
    "    gr=\"C\"\n",
    "elif score>=21:\n",
    "    gr=\"D\"\n",
    "else:\n",
    "    gr=\"E\"\n",
    "\n",
    "print(f'grade is {gr}')"
   ]
  },
  {
   "cell_type": "code",
   "execution_count": 115,
   "id": "adf4e5ef",
   "metadata": {},
   "outputs": [
    {
     "name": "stdout",
     "output_type": "stream",
     "text": [
      "금액을 입력하시오(금액과 통화명 사이에 공백 필수)>> 1000 달러\n",
      "109600.00  원\n"
     ]
    }
   ],
   "source": [
    "#사용자로부터 달러, 엔, 유로, 또는 위안 금액을 입력받은 후 \n",
    "#이를 원으로 변환하는 프로그램을 작성하라. 각 통화별 환율은 다음과 같다. \n",
    "#사용자는 100 달러, 1000 엔, 13 유로, 100 위안과 같이 \n",
    "#금액과 통화명 사이에 공백을 넣어 입력한다고 가정한다.\n",
    "\n",
    "cash=input('금액을 입력하시오(금액과 통화명 사이에 공백 필수)>> ')\n",
    "a=int(cash[0:-2])\n",
    "\n",
    "\n",
    "if cash[-2:-1]=='달러':\n",
    "    change=a*1167\n",
    "elif cash[-1]=='엔':\n",
    "    change=a*1096\n",
    "elif cash[-2:-1]=='유로':\n",
    "    change=a*1268\n",
    "elif cash[-2:-1]=='위안':\n",
    "    change=a*171\n",
    "\n",
    "print('%.2f'%change,' 원')\n",
    "    \n",
    "#print(cash[0:-2])\n",
    "#print(cash[-1])"
   ]
  },
  {
   "cell_type": "code",
   "execution_count": null,
   "id": "a7add26f",
   "metadata": {},
   "outputs": [],
   "source": []
  },
  {
   "cell_type": "code",
   "execution_count": null,
   "id": "e49c55c9",
   "metadata": {},
   "outputs": [],
   "source": []
  },
  {
   "cell_type": "code",
   "execution_count": null,
   "id": "cfce088b",
   "metadata": {},
   "outputs": [],
   "source": []
  },
  {
   "cell_type": "code",
   "execution_count": null,
   "id": "833fc909",
   "metadata": {},
   "outputs": [],
   "source": []
  },
  {
   "cell_type": "code",
   "execution_count": null,
   "id": "597545d8",
   "metadata": {},
   "outputs": [],
   "source": []
  },
  {
   "cell_type": "code",
   "execution_count": null,
   "id": "b7b0004e",
   "metadata": {},
   "outputs": [],
   "source": []
  },
  {
   "cell_type": "code",
   "execution_count": null,
   "id": "2b17bec6",
   "metadata": {},
   "outputs": [],
   "source": []
  },
  {
   "cell_type": "code",
   "execution_count": null,
   "id": "9fca7705",
   "metadata": {},
   "outputs": [],
   "source": []
  }
 ],
 "metadata": {
  "kernelspec": {
   "display_name": "Python 3 (ipykernel)",
   "language": "python",
   "name": "python3"
  },
  "language_info": {
   "codemirror_mode": {
    "name": "ipython",
    "version": 3
   },
   "file_extension": ".py",
   "mimetype": "text/x-python",
   "name": "python",
   "nbconvert_exporter": "python",
   "pygments_lexer": "ipython3",
   "version": "3.9.7"
  }
 },
 "nbformat": 4,
 "nbformat_minor": 5
}
