{
 "cells": [
  {
   "cell_type": "code",
   "execution_count": 1,
   "id": "581977bf",
   "metadata": {
    "scrolled": false
   },
   "outputs": [
    {
     "name": "stdout",
     "output_type": "stream",
     "text": [
      "3.14\n"
     ]
    }
   ],
   "source": [
    "#maths\n",
    "num=3.141592\n",
    "print(round(num,2))"
   ]
  },
  {
   "cell_type": "code",
   "execution_count": null,
   "id": "d6d8ef97",
   "metadata": {},
   "outputs": [],
   "source": [
    "#거듭제곱\n",
    "10**2"
   ]
  },
  {
   "cell_type": "code",
   "execution_count": 2,
   "id": "7c0dafce",
   "metadata": {},
   "outputs": [
    {
     "data": {
      "text/plain": [
       "10.0"
      ]
     },
     "execution_count": 2,
     "metadata": {},
     "output_type": "execute_result"
    }
   ],
   "source": [
    "import math\n",
    "#제곱근\n",
    "math.sqrt(100)\n"
   ]
  },
  {
   "cell_type": "code",
   "execution_count": 3,
   "id": "56c6f843",
   "metadata": {},
   "outputs": [
    {
     "data": {
      "text/plain": [
       "3.141592653589793"
      ]
     },
     "execution_count": 3,
     "metadata": {},
     "output_type": "execute_result"
    }
   ],
   "source": [
    "math.pi"
   ]
  },
  {
   "cell_type": "code",
   "execution_count": null,
   "id": "bd27c466",
   "metadata": {},
   "outputs": [],
   "source": [
    "#몫만 돌려주기\n",
    "15//2\n"
   ]
  },
  {
   "cell_type": "code",
   "execution_count": null,
   "id": "5d0dcf8c",
   "metadata": {},
   "outputs": [],
   "source": [
    "#나머지만 돌려주기\n",
    "15%2"
   ]
  },
  {
   "cell_type": "code",
   "execution_count": 13,
   "id": "053da878",
   "metadata": {},
   "outputs": [
    {
     "name": "stdout",
     "output_type": "stream",
     "text": [
      "Enter an integer over 500 >> 550\n",
      "23.45\n"
     ]
    }
   ],
   "source": [
    "import math\n",
    "a=int(input('Enter an integer over 500 >> '))\n",
    "\n",
    "print(round(math.sqrt(a),2))"
   ]
  },
  {
   "cell_type": "code",
   "execution_count": 16,
   "id": "bb53ba3b",
   "metadata": {},
   "outputs": [
    {
     "name": "stdout",
     "output_type": "stream",
     "text": [
      "enter the radius of a circle>>2\n",
      "12.57\n"
     ]
    }
   ],
   "source": [
    "a=int(input('enter the radius of a circle>>'))\n",
    "re=math.pi * (a**2)\n",
    "print(round(re,2))"
   ]
  },
  {
   "cell_type": "code",
   "execution_count": 19,
   "id": "a9302a75",
   "metadata": {
    "scrolled": true
   },
   "outputs": [
    {
     "name": "stdout",
     "output_type": "stream",
     "text": [
      "enter first number>>7\n",
      "enter first number>>2\n",
      "7 divide by 2 is 3 with 1 remaining\n"
     ]
    }
   ],
   "source": [
    "a=int(input('enter first number>>'))\n",
    "b=int(input('enter first number>>'))\n",
    "\n",
    "c= a//b\n",
    "d=a%b\n",
    "\n",
    "print(f'{a} divide by {b} is {c} with {d} remaining')\n"
   ]
  },
  {
   "cell_type": "code",
   "execution_count": 26,
   "id": "7f397f19",
   "metadata": {},
   "outputs": [
    {
     "name": "stdout",
     "output_type": "stream",
     "text": [
      "1) Square \n",
      " 2) Triangle \n",
      "enter a number >>2\n",
      "enter base >> 2\n",
      "enter height >> 4\n",
      "area is 4.0\n"
     ]
    }
   ],
   "source": [
    "print('1) Square \\n 2) Triangle ')\n",
    "a=int(input('enter a number >>'))\n",
    "\n",
    "if a == 1:\n",
    "    len=int(input('one of the sides lengh>>'))\n",
    "    area=len**2\n",
    "    print(f'area is {area}')\n",
    "    \n",
    "elif a==2:\n",
    "    base=int(input('enter base >> '))\n",
    "    height=int(input('enter height >> '))\n",
    "    area=base*height/2\n",
    "    print(f'area is {area}')\n",
    "\n",
    "else :\n",
    "    print('incorrent option selected')\n",
    "\n",
    "\n"
   ]
  },
  {
   "cell_type": "code",
   "execution_count": null,
   "id": "200fbcb0",
   "metadata": {},
   "outputs": [],
   "source": [
    "#########################################\n",
    "# For\n",
    "#########################################\n",
    "\n",
    "# The range function is often used in for loops and lists the starting number,\n",
    "# the ending number and can also include the steps\n",
    "\n",
    "# for i in range(start, stop, step)\n",
    "\n",
    "for i in range(1,5):\n",
    "    print(i)"
   ]
  },
  {
   "cell_type": "code",
   "execution_count": 27,
   "id": "ef1a6af8",
   "metadata": {},
   "outputs": [
    {
     "name": "stdout",
     "output_type": "stream",
     "text": [
      "1\n",
      "2\n",
      "3\n",
      "4\n",
      "5\n"
     ]
    }
   ],
   "source": [
    "no=[1,2,3,4,5]\n",
    "\n",
    "for i in no:\n",
    "    print(i)"
   ]
  },
  {
   "cell_type": "code",
   "execution_count": 34,
   "id": "add1f491",
   "metadata": {},
   "outputs": [
    {
     "name": "stdout",
     "output_type": "stream",
     "text": [
      "enter your name >> d\n",
      "enter time >> 3\n",
      "d\n",
      "d\n",
      "d\n"
     ]
    }
   ],
   "source": [
    "name= input('enter your name >> ')\n",
    "no=int(input('enter time >> '))\n",
    "\n",
    "for i in range(no) :\n",
    "    print(name)"
   ]
  },
  {
   "cell_type": "code",
   "execution_count": 35,
   "id": "2896cc9b",
   "metadata": {},
   "outputs": [
    {
     "name": "stdout",
     "output_type": "stream",
     "text": [
      "enter your name >> ajdf\n",
      "a\n",
      "j\n",
      "d\n",
      "f\n"
     ]
    }
   ],
   "source": [
    "# Ask the user to enter their name and \n",
    "# display each letter in their name on a separate line.\n",
    "\n",
    "name= input('enter your name >> ')\n",
    "for i in name :\n",
    "    print(i)"
   ]
  },
  {
   "cell_type": "code",
   "execution_count": 39,
   "id": "44ddb443",
   "metadata": {},
   "outputs": [
    {
     "name": "stdout",
     "output_type": "stream",
     "text": [
      "enter direction(up or down) >> down\n",
      "enter number under 20 >> 19\n",
      "20\n",
      "19\n"
     ]
    }
   ],
   "source": [
    "# Ask which direction the user wants to count (up or down).\n",
    "# If they select up, then ask them for the top number and then count from 1 to that number.  \n",
    "# If they select down, ask them to enter a number below 20 and then count down from 20\n",
    "# to that number. If they entered something other than up or down,\n",
    "# display the message 'i dont understand'.\n",
    "\n",
    "# 사용자가 원하는 카운트 방향(위로 또는 아래로)을 묻고\n",
    "# 만약 up을 선택하면,큰 수를 묻고 1부터 그 수까지 출력한다.\n",
    "# 만약 down을 선택하면 20미만의 수를 묻고 20부터 그 수까지를 출력한다. \n",
    "# 업 또는 다운이 아닌 것을 선택하면 'i dont understand'. 를 출력한다. \n",
    "\n",
    "dir=input('enter direction(up or down) >> ')\n",
    "\n",
    "if dir == 'up':\n",
    "    num=int(input('enter top number >> '))\n",
    "    for i in range(1,num+1):\n",
    "        print(i)\n",
    "elif dir== 'down':\n",
    "    num=int(input('enter number under 20 >> '))\n",
    "    for i in range(20, num-1,-1):\n",
    "        print(i)\n",
    "else:\n",
    "    print(\"i don't understand\")"
   ]
  },
  {
   "cell_type": "code",
   "execution_count": 40,
   "id": "bf267fe4",
   "metadata": {},
   "outputs": [
    {
     "name": "stdout",
     "output_type": "stream",
     "text": [
      "how many people you want to invite to a party >> 2\n",
      "enter name >>adf\n",
      "adf has been invited\n",
      "enter name >>gd\n",
      "gd has been invited\n"
     ]
    }
   ],
   "source": [
    "# Ask how many people the user wants to invite to a party.\n",
    "# If they enter a number below 10, ask for the names and after each name display\n",
    "# '[name] has been invited'. \n",
    "# If they enter a number which is 10 or higher, display the message 'Too many people'\n",
    "\n",
    "num= int(input('how many people you want to invite to a party >> '))\n",
    "\n",
    "if num<10:\n",
    "    for i in range(num):\n",
    "        name=input('enter name >>')\n",
    "        print(f'{name} has been invited')\n",
    "elif num>=10:\n",
    "    print('Too many people')"
   ]
  },
  {
   "cell_type": "code",
   "execution_count": 46,
   "id": "02a55f38",
   "metadata": {},
   "outputs": [
    {
     "name": "stdout",
     "output_type": "stream",
     "text": [
      "Enter a number : 100\n",
      "The total is  100\n"
     ]
    }
   ],
   "source": [
    "###############################################\n",
    "# While\n",
    "#A while loop allows code to be repeted an unknown number of times\n",
    "#as long as a condition is being met.\n",
    "#this may be 100times, just the once or even never\n",
    "#it is important, therefore, to make sure the correct conditions are in place\n",
    "# to run the loop before it starts.\n",
    "total = 0\n",
    "\n",
    "while total < 100:\n",
    "  num = int(input('Enter a number : '))\n",
    "  total = total + num\n",
    "print('The total is ', total)"
   ]
  },
  {
   "cell_type": "code",
   "execution_count": null,
   "id": "1348b19d",
   "metadata": {},
   "outputs": [
    {
     "name": "stdout",
     "output_type": "stream",
     "text": [
      "enter user number >>45\n",
      "the total is 45\n"
     ]
    }
   ],
   "source": [
    "total=0\n",
    "\n",
    "while total<=50:\n",
    "    num= int(input('enter user number >>'))\n",
    "    total+=num\n",
    "    if total>50:\n",
    "        print('the total is ', total-num)\n",
    "\n",
    "    else:\n",
    "        print('the total is', total)\n"
   ]
  },
  {
   "cell_type": "code",
   "execution_count": null,
   "id": "1c80d2ee",
   "metadata": {},
   "outputs": [],
   "source": []
  },
  {
   "cell_type": "code",
   "execution_count": null,
   "id": "664473cb",
   "metadata": {},
   "outputs": [],
   "source": []
  },
  {
   "cell_type": "code",
   "execution_count": null,
   "id": "1c289718",
   "metadata": {},
   "outputs": [],
   "source": []
  },
  {
   "cell_type": "code",
   "execution_count": null,
   "id": "6f950d12",
   "metadata": {},
   "outputs": [],
   "source": []
  },
  {
   "cell_type": "code",
   "execution_count": null,
   "id": "4a310ced",
   "metadata": {},
   "outputs": [],
   "source": []
  },
  {
   "cell_type": "code",
   "execution_count": null,
   "id": "e0d4b8e0",
   "metadata": {},
   "outputs": [],
   "source": []
  },
  {
   "cell_type": "code",
   "execution_count": null,
   "id": "b50dd408",
   "metadata": {},
   "outputs": [],
   "source": []
  },
  {
   "cell_type": "code",
   "execution_count": null,
   "id": "83500271",
   "metadata": {},
   "outputs": [],
   "source": []
  },
  {
   "cell_type": "code",
   "execution_count": null,
   "id": "22b7f712",
   "metadata": {},
   "outputs": [],
   "source": []
  },
  {
   "cell_type": "code",
   "execution_count": null,
   "id": "506707eb",
   "metadata": {},
   "outputs": [],
   "source": []
  }
 ],
 "metadata": {
  "kernelspec": {
   "display_name": "Python 3 (ipykernel)",
   "language": "python",
   "name": "python3"
  },
  "language_info": {
   "codemirror_mode": {
    "name": "ipython",
    "version": 3
   },
   "file_extension": ".py",
   "mimetype": "text/x-python",
   "name": "python",
   "nbconvert_exporter": "python",
   "pygments_lexer": "ipython3",
   "version": "3.9.7"
  }
 },
 "nbformat": 4,
 "nbformat_minor": 5
}
