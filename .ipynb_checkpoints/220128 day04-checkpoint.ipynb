{
 "cells": [
  {
   "cell_type": "code",
   "execution_count": 1,
   "id": "d5a20099",
   "metadata": {},
   "outputs": [
    {
     "name": "stdout",
     "output_type": "stream",
     "text": [
      "hello world\n"
     ]
    }
   ],
   "source": [
    "#프로그래밍!!!programing\n",
    "#pro+gram 미리+작성된 것\n",
    "#사전적 의미는 '진행계획' 이나 '순서'\n",
    "#컴퓨터 프로그램이란\n",
    "#'컴퓨터가 무엇을 해야할지 미리 작성한 계획'\n",
    "\n",
    "#카카오톡 프로그램\n",
    "#1.친구지정 2. 메시지 입력  3.전송버튼클릭\n",
    "\n"
   ]
  },
  {
   "cell_type": "code",
   "execution_count": 3,
   "id": "91c1cf19",
   "metadata": {},
   "outputs": [
    {
     "name": "stdout",
     "output_type": "stream",
     "text": [
      "Hello Python Programming\n",
      "53\n"
     ]
    }
   ],
   "source": [
    "#print\n",
    "print('Hello Python Programming')\n",
    "print('53')"
   ]
  },
  {
   "cell_type": "code",
   "execution_count": 4,
   "id": "76b25b69",
   "metadata": {},
   "outputs": [
    {
     "name": "stdout",
     "output_type": "stream",
     "text": [
      "52 11 world\n"
     ]
    }
   ],
   "source": [
    "print(52,11,'world')"
   ]
  },
  {
   "cell_type": "code",
   "execution_count": 20,
   "id": "007d2456",
   "metadata": {},
   "outputs": [
    {
     "name": "stdout",
     "output_type": "stream",
     "text": [
      "<class 'str'>\n",
      "<class 'int'>\n",
      "\"안녕\"이라고 했다.\n",
      "'안녕'이라고 했다\n",
      "\"안녕\"이라고 했다.\n",
      "\n",
      "이름\t나이\t지역\n",
      "김현아\t20 \t강남구\n",
      "박서은\t15\t서초구\n"
     ]
    }
   ],
   "source": [
    "#줄바꿈\n",
    "#기본자료형\n",
    "#문자열 string '안녕'\n",
    "#숫자 int\n",
    "#boolean True False\n",
    "print(type('type'))\n",
    "print(type(123))\n",
    "print('\"안녕\"이라고 했다.')\n",
    "print(\"'안녕'이라고 했다\")\n",
    "print(\"\\\"안녕\\\"이라고 했다.\") #이스케이프 문자\n",
    "print()\n",
    "print('이름\\t나이\\t지역')\n",
    "\n",
    "print('김현아\\t20 \\t강남구')\n",
    "print('박서은\\t15\\t서초구')\n"
   ]
  },
  {
   "cell_type": "code",
   "execution_count": 22,
   "id": "447d812f",
   "metadata": {},
   "outputs": [
    {
     "name": "stdout",
     "output_type": "stream",
     "text": [
      "안녕하세요\n",
      "안녕 하세요\n",
      "------------------------------\n"
     ]
    }
   ],
   "source": [
    "print('안녕'+'하세요')\n",
    "print('안녕','하세요')\n",
    "\n",
    "print('-'*30)"
   ]
  },
  {
   "cell_type": "code",
   "execution_count": 24,
   "id": "a57af30c",
   "metadata": {},
   "outputs": [
    {
     "ename": "TypeError",
     "evalue": "can only concatenate str (not \"int\") to str",
     "output_type": "error",
     "traceback": [
      "\u001b[1;31m-----------------------------------------------------------------------\u001b[0m",
      "\u001b[1;31mTypeError\u001b[0m                             Traceback (most recent call last)",
      "\u001b[1;32m~\\AppData\\Local\\Temp/ipykernel_5132/257196019.py\u001b[0m in \u001b[0;36m<module>\u001b[1;34m\u001b[0m\n\u001b[1;32m----> 1\u001b[1;33m \u001b[0mprint\u001b[0m\u001b[1;33m(\u001b[0m\u001b[1;34m'-'\u001b[0m\u001b[1;33m+\u001b[0m\u001b[1;36m30\u001b[0m\u001b[1;33m)\u001b[0m\u001b[1;33m\u001b[0m\u001b[1;33m\u001b[0m\u001b[0m\n\u001b[0m",
      "\u001b[1;31mTypeError\u001b[0m: can only concatenate str (not \"int\") to str"
     ]
    }
   ],
   "source": [
    "print('-'+30)"
   ]
  },
  {
   "cell_type": "code",
   "execution_count": 31,
   "id": "33ebda5a",
   "metadata": {},
   "outputs": [
    {
     "name": "stdout",
     "output_type": "stream",
     "text": [
      "안\n",
      "녕\n",
      "하\n",
      "세\n",
      "요\n",
      "\n",
      "요\n",
      "세\n",
      "하\n",
      "녕\n",
      "안\n"
     ]
    }
   ],
   "source": [
    "\n",
    "#문자열에서 인덱싱(문자 하나를 선택)\n",
    "print('안녕하세요'[0])\n",
    "print('안녕하세요'[1])\n",
    "print('안녕하세요'[2])\n",
    "print('안녕하세요'[3])\n",
    "print('안녕하세요'[4])\n",
    "print()\n",
    "print('안녕하세요'[-1])\n",
    "print('안녕하세요'[-2])\n",
    "print('안녕하세요'[-3])\n",
    "print('안녕하세요'[-4])\n",
    "print('안녕하세요'[-5])"
   ]
  },
  {
   "cell_type": "code",
   "execution_count": 33,
   "id": "74499d97",
   "metadata": {},
   "outputs": [
    {
     "name": "stdout",
     "output_type": "stream",
     "text": [
      "녕하세\n",
      "녕하세요\n",
      "안녕하\n",
      "안녕하세요\n"
     ]
    }
   ],
   "source": [
    "#문자열에서의 슬라이싱(문자열에서 여러글자 선택)\n",
    "print('안녕하세요'[1:4]) #[시작: 미만]\n",
    "print('안녕하세요'[1:])\n",
    "print('안녕하세요'[:3])\n",
    "print('안녕하세요'[:])"
   ]
  },
  {
   "cell_type": "code",
   "execution_count": 34,
   "id": "a6edce3b",
   "metadata": {},
   "outputs": [
    {
     "ename": "IndexError",
     "evalue": "string index out of range",
     "output_type": "error",
     "traceback": [
      "\u001b[1;31m-----------------------------------------------------------------------\u001b[0m",
      "\u001b[1;31mIndexError\u001b[0m                            Traceback (most recent call last)",
      "\u001b[1;32m~\\AppData\\Local\\Temp/ipykernel_5132/2417684897.py\u001b[0m in \u001b[0;36m<module>\u001b[1;34m\u001b[0m\n\u001b[0;32m      1\u001b[0m \u001b[1;31m#인덱싱에서 자주 등장하는 에러\u001b[0m\u001b[1;33m\u001b[0m\u001b[1;33m\u001b[0m\u001b[0m\n\u001b[0;32m      2\u001b[0m \u001b[1;33m\u001b[0m\u001b[0m\n\u001b[1;32m----> 3\u001b[1;33m \u001b[0mprint\u001b[0m\u001b[1;33m(\u001b[0m\u001b[1;34m'안녕하세요'\u001b[0m\u001b[1;33m[\u001b[0m\u001b[1;36m9\u001b[0m\u001b[1;33m]\u001b[0m\u001b[1;33m)\u001b[0m\u001b[1;33m\u001b[0m\u001b[1;33m\u001b[0m\u001b[0m\n\u001b[0m",
      "\u001b[1;31mIndexError\u001b[0m: string index out of range"
     ]
    }
   ],
   "source": [
    "#인덱싱에서 자주 등장하는 에러\n",
    "\n",
    "print('안녕하세요'[9])"
   ]
  },
  {
   "cell_type": "code",
   "execution_count": null,
   "id": "c61012f9",
   "metadata": {},
   "outputs": [],
   "source": [
    "#문자열의 길이 구하기\n",
    "print(len('안녕하세요')) #길이는 1에서 시작한다.\n"
   ]
  },
  {
   "cell_type": "code",
   "execution_count": 1,
   "id": "641b08ff",
   "metadata": {},
   "outputs": [
    {
     "name": "stdout",
     "output_type": "stream",
     "text": [
      "5\n"
     ]
    }
   ],
   "source": [
    "print(len(\"안녕하세요\"))"
   ]
  },
  {
   "cell_type": "code",
   "execution_count": 2,
   "id": "2cbc6e15",
   "metadata": {},
   "outputs": [
    {
     "name": "stdout",
     "output_type": "stream",
     "text": [
      "True\n"
     ]
    }
   ],
   "source": [
    "#조건문\n",
    "#bool&if\n",
    "\n",
    "print(True)"
   ]
  },
  {
   "cell_type": "code",
   "execution_count": 3,
   "id": "16117a22",
   "metadata": {},
   "outputs": [
    {
     "ename": "NameError",
     "evalue": "name 'true' is not defined",
     "output_type": "error",
     "traceback": [
      "\u001b[1;31m---------------------------------------------------------------------------\u001b[0m",
      "\u001b[1;31mNameError\u001b[0m                                 Traceback (most recent call last)",
      "\u001b[1;32m~\\AppData\\Local\\Temp/ipykernel_25164/4153662535.py\u001b[0m in \u001b[0;36m<module>\u001b[1;34m\u001b[0m\n\u001b[1;32m----> 1\u001b[1;33m \u001b[0mprint\u001b[0m\u001b[1;33m(\u001b[0m\u001b[0mtrue\u001b[0m\u001b[1;33m)\u001b[0m\u001b[1;33m\u001b[0m\u001b[1;33m\u001b[0m\u001b[0m\n\u001b[0m",
      "\u001b[1;31mNameError\u001b[0m: name 'true' is not defined"
     ]
    }
   ],
   "source": [
    "print(true)"
   ]
  },
  {
   "cell_type": "code",
   "execution_count": 5,
   "id": "75bc9a70",
   "metadata": {},
   "outputs": [
    {
     "name": "stdout",
     "output_type": "stream",
     "text": [
      "False\n",
      "True\n",
      "True\n",
      "False\n"
     ]
    }
   ],
   "source": [
    "print(10==100)\n",
    "print(10!=100)\n",
    "print(10<100)\n",
    "print(10>100)"
   ]
  },
  {
   "cell_type": "code",
   "execution_count": 7,
   "id": "6aef5736",
   "metadata": {},
   "outputs": [
    {
     "name": "stdout",
     "output_type": "stream",
     "text": [
      "정수를 입력하세요>>>0\n",
      "0입니다.\n"
     ]
    }
   ],
   "source": [
    "#if 조건문\n",
    "#조건에 따라 특정 코드를 실행하거나 특정코드를 실행하지 않게 만들고 \n",
    "#싶을 때 사용 코드의 실행 흐름을 변경시키는 것을 조건 분기라고 부른다\n",
    "\n",
    "num=int(input('정수를 입력하세요>>>'))\n",
    "if num>0:\n",
    "    print('양수입니다.')\n",
    "if num<0:\n",
    "    print('음수입니다.')\n",
    "if num==0:\n",
    "    print('0입니다.')"
   ]
  },
  {
   "cell_type": "code",
   "execution_count": 12,
   "id": "cdc4b32f",
   "metadata": {},
   "outputs": [
    {
     "name": "stdout",
     "output_type": "stream",
     "text": [
      "2022-01-28 14:31:55.571982\n",
      "2022\n",
      "1\n",
      "28\n",
      "14\n",
      "31\n",
      "55\n"
     ]
    }
   ],
   "source": [
    "#날짜/시간과 관련된 기능을 가져온다.\n",
    "\n",
    "import datetime\n",
    "#현재의 날짜와 시간을 구하는 함수\n",
    "now=datetime.datetime.now()\n",
    "print(now)\n",
    "print(now.year)\n",
    "print(now.month)\n",
    "print(now.day)\n",
    "print(now.hour)\n",
    "print(now.minute)\n",
    "print(now.second)"
   ]
  },
  {
   "cell_type": "code",
   "execution_count": 14,
   "id": "4f077fa8",
   "metadata": {},
   "outputs": [
    {
     "name": "stdout",
     "output_type": "stream",
     "text": [
      "현재시각은 14시 35분으로 오후입니다.\n"
     ]
    }
   ],
   "source": [
    "#q 현재 시각은 14시 33분로 오후입니다 출력\n",
    "import datetime\n",
    "now=datetime.datetime.now()\n",
    "if now.hour<12 :\n",
    "    print(f'현재시각은 {now.hour}시 {now.minute}분으로 오전입니다.')\n",
    "else :\n",
    "    print(f'현재시각은 {now.hour}시 {now.minute}분으로 오후입니다.')"
   ]
  },
  {
   "cell_type": "code",
   "execution_count": 22,
   "id": "9bc7f417",
   "metadata": {},
   "outputs": [
    {
     "name": "stdout",
     "output_type": "stream",
     "text": [
      "이번달은 1월로 겨울입니다.\n"
     ]
    }
   ],
   "source": [
    "#이번달은 1월로 겨울입니다.\n",
    "import datetime\n",
    "now=datetime.datetime.now()\n",
    "season=\"\"\n",
    "if 3<=now.month <=5:\n",
    "    season=\"봄\"\n",
    "if 6<=now.month<=8 :\n",
    "    season=\"여름\"\n",
    "if 9<=now.month<=11:\n",
    "    season=\"가을\"\n",
    "if now.month == 12 or 1<=now.month <=2 :\n",
    "    season=\"겨울\"\n",
    "    \n",
    "print(f'이번달은 {now.month}월로 {season}입니다.')"
   ]
  },
  {
   "cell_type": "code",
   "execution_count": 28,
   "id": "2087213b",
   "metadata": {},
   "outputs": [
    {
     "name": "stdout",
     "output_type": "stream",
     "text": [
      "정수를 입력하세요>>>3\n",
      "홀수 입니다.\n"
     ]
    }
   ],
   "source": [
    "#나머지 연산자를 사용하지 않고 정수를 입력받아 그 수가 짝수인지 \n",
    "#홀수 인지 알려주는 프로그램\n",
    "\n",
    "a=input('정수를 입력하세요>>>')\n",
    "#in -> 있니~?\n",
    "if a[-1] in \"02468\":\n",
    "    print('짝수 입니다.')\n",
    "if a[-1] in \"13579\" :\n",
    "    print('홀수 입니다.')\n"
   ]
  },
  {
   "cell_type": "code",
   "execution_count": null,
   "id": "fe8744a5",
   "metadata": {},
   "outputs": [],
   "source": [
    "#pass\n",
    "number = int(input('정수입력 >>>'))\n",
    "if number > 0 :\n",
    "    pass\n",
    "else :\n",
    "    pass"
   ]
  },
  {
   "cell_type": "code",
   "execution_count": 32,
   "id": "4ac50898",
   "metadata": {},
   "outputs": [
    {
     "name": "stdout",
     "output_type": "stream",
     "text": [
      "3\n",
      "4\n",
      "5\n"
     ]
    }
   ],
   "source": [
    "#리스트와 반복문\n",
    "\n",
    "li=[1,2,3,4,5] #collection, mutable, ordered\n",
    "\n",
    "for i in li :\n",
    "    if i>=3 :\n",
    "        print(i)\n",
    "\n"
   ]
  },
  {
   "cell_type": "code",
   "execution_count": 40,
   "id": "6663683f",
   "metadata": {},
   "outputs": [],
   "source": [
    "#딕셔너리와 반복문\n",
    "dict={\n",
    "    1:'홍길동',\n",
    "    2:'이몽룡'\n",
    "}\n"
   ]
  },
  {
   "cell_type": "code",
   "execution_count": 41,
   "id": "1810a0be",
   "metadata": {},
   "outputs": [
    {
     "name": "stdout",
     "output_type": "stream",
     "text": [
      "1 홍길동\n",
      "2 이몽룡\n"
     ]
    }
   ],
   "source": [
    "for i in dict :\n",
    "    print(i,dict[i])"
   ]
  },
  {
   "cell_type": "code",
   "execution_count": 42,
   "id": "929bb396",
   "metadata": {},
   "outputs": [
    {
     "data": {
      "text/plain": [
       "[0, 1, 2, 3, 4]"
      ]
     },
     "execution_count": 42,
     "metadata": {},
     "output_type": "execute_result"
    }
   ],
   "source": [
    "list(range(0,5)) #시작을 생략하면 0 부터 5 미만, 증가값 생략하면 1씩증가"
   ]
  },
  {
   "cell_type": "code",
   "execution_count": 46,
   "id": "d2a0e89b",
   "metadata": {},
   "outputs": [
    {
     "ename": "IndentationError",
     "evalue": "expected an indented block (Temp/ipykernel_25164/2821747833.py, line 10)",
     "output_type": "error",
     "traceback": [
      "\u001b[1;36m  File \u001b[1;32m\"C:\\Users\\Daughter\\AppData\\Local\\Temp/ipykernel_25164/2821747833.py\"\u001b[1;36m, line \u001b[1;32m10\u001b[0m\n\u001b[1;33m    print(f'{i}번째 반복')\u001b[0m\n\u001b[1;37m    ^\u001b[0m\n\u001b[1;31mIndentationError\u001b[0m\u001b[1;31m:\u001b[0m expected an indented block\n"
     ]
    }
   ],
   "source": [
    "#for : 반복횟수를 정확히 알고 있을 때 주로 사용\n",
    "#while : 반복횟수를 정확히 알 수 없을 떄 주로 사용\n",
    "\n",
    "#while 1, for 1\n",
    "#0번째 반복입니다.\n",
    "#1번째 반복입니다.\n",
    "#2번째 반복입니다.\n",
    "\n",
    "for i in range(3):\n",
    "print(f'{i}번째 반복')"
   ]
  }
 ],
 "metadata": {
  "kernelspec": {
   "display_name": "Python 3 (ipykernel)",
   "language": "python",
   "name": "python3"
  },
  "language_info": {
   "codemirror_mode": {
    "name": "ipython",
    "version": 3
   },
   "file_extension": ".py",
   "mimetype": "text/x-python",
   "name": "python",
   "nbconvert_exporter": "python",
   "pygments_lexer": "ipython3",
   "version": "3.9.7"
  }
 },
 "nbformat": 4,
 "nbformat_minor": 5
}
