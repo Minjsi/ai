{
 "cells": [
  {
   "cell_type": "code",
   "execution_count": 1,
   "id": "d5a20099",
   "metadata": {},
   "outputs": [
    {
     "name": "stdout",
     "output_type": "stream",
     "text": [
      "hello world\n"
     ]
    }
   ],
   "source": [
    "#프로그래밍!!!programing\n",
    "#pro+gram 미리+작성된 것\n",
    "#사전적 의미는 '진행계획' 이나 '순서'\n",
    "#컴퓨터 프로그램이란\n",
    "#'컴퓨터가 무엇을 해야할지 미리 작성한 계획'\n",
    "\n",
    "#카카오톡 프로그램\n",
    "#1.친구지정 2. 메시지 입력  3.전송버튼클릭\n",
    "\n"
   ]
  },
  {
   "cell_type": "code",
   "execution_count": 3,
   "id": "91c1cf19",
   "metadata": {},
   "outputs": [
    {
     "name": "stdout",
     "output_type": "stream",
     "text": [
      "Hello Python Programming\n",
      "53\n"
     ]
    }
   ],
   "source": [
    "#print\n",
    "print('Hello Python Programming')\n",
    "print('53')"
   ]
  },
  {
   "cell_type": "code",
   "execution_count": 4,
   "id": "76b25b69",
   "metadata": {},
   "outputs": [
    {
     "name": "stdout",
     "output_type": "stream",
     "text": [
      "52 11 world\n"
     ]
    }
   ],
   "source": [
    "print(52,11,'world')"
   ]
  },
  {
   "cell_type": "code",
   "execution_count": 20,
   "id": "007d2456",
   "metadata": {},
   "outputs": [
    {
     "name": "stdout",
     "output_type": "stream",
     "text": [
      "<class 'str'>\n",
      "<class 'int'>\n",
      "\"안녕\"이라고 했다.\n",
      "'안녕'이라고 했다\n",
      "\"안녕\"이라고 했다.\n",
      "\n",
      "이름\t나이\t지역\n",
      "김현아\t20 \t강남구\n",
      "박서은\t15\t서초구\n"
     ]
    }
   ],
   "source": [
    "#줄바꿈\n",
    "#기본자료형\n",
    "#문자열 string '안녕'\n",
    "#숫자 int\n",
    "#boolean True False\n",
    "print(type('type'))\n",
    "print(type(123))\n",
    "print('\"안녕\"이라고 했다.')\n",
    "print(\"'안녕'이라고 했다\")\n",
    "print(\"\\\"안녕\\\"이라고 했다.\") #이스케이프 문자\n",
    "print()\n",
    "print('이름\\t나이\\t지역')\n",
    "\n",
    "print('김현아\\t20 \\t강남구')\n",
    "print('박서은\\t15\\t서초구')\n"
   ]
  },
  {
   "cell_type": "code",
   "execution_count": 22,
   "id": "447d812f",
   "metadata": {},
   "outputs": [
    {
     "name": "stdout",
     "output_type": "stream",
     "text": [
      "안녕하세요\n",
      "안녕 하세요\n",
      "------------------------------\n"
     ]
    }
   ],
   "source": [
    "print('안녕'+'하세요')\n",
    "print('안녕','하세요')\n",
    "\n",
    "print('-'*30)"
   ]
  },
  {
   "cell_type": "code",
   "execution_count": 24,
   "id": "a57af30c",
   "metadata": {},
   "outputs": [
    {
     "ename": "TypeError",
     "evalue": "can only concatenate str (not \"int\") to str",
     "output_type": "error",
     "traceback": [
      "\u001b[1;31m-----------------------------------------------------------------------\u001b[0m",
      "\u001b[1;31mTypeError\u001b[0m                             Traceback (most recent call last)",
      "\u001b[1;32m~\\AppData\\Local\\Temp/ipykernel_5132/257196019.py\u001b[0m in \u001b[0;36m<module>\u001b[1;34m\u001b[0m\n\u001b[1;32m----> 1\u001b[1;33m \u001b[0mprint\u001b[0m\u001b[1;33m(\u001b[0m\u001b[1;34m'-'\u001b[0m\u001b[1;33m+\u001b[0m\u001b[1;36m30\u001b[0m\u001b[1;33m)\u001b[0m\u001b[1;33m\u001b[0m\u001b[1;33m\u001b[0m\u001b[0m\n\u001b[0m",
      "\u001b[1;31mTypeError\u001b[0m: can only concatenate str (not \"int\") to str"
     ]
    }
   ],
   "source": [
    "print('-'+30)"
   ]
  },
  {
   "cell_type": "code",
   "execution_count": 31,
   "id": "33ebda5a",
   "metadata": {},
   "outputs": [
    {
     "name": "stdout",
     "output_type": "stream",
     "text": [
      "안\n",
      "녕\n",
      "하\n",
      "세\n",
      "요\n",
      "\n",
      "요\n",
      "세\n",
      "하\n",
      "녕\n",
      "안\n"
     ]
    }
   ],
   "source": [
    "\n",
    "#문자열에서 인덱싱(문자 하나를 선택)\n",
    "print('안녕하세요'[0])\n",
    "print('안녕하세요'[1])\n",
    "print('안녕하세요'[2])\n",
    "print('안녕하세요'[3])\n",
    "print('안녕하세요'[4])\n",
    "print()\n",
    "print('안녕하세요'[-1])\n",
    "print('안녕하세요'[-2])\n",
    "print('안녕하세요'[-3])\n",
    "print('안녕하세요'[-4])\n",
    "print('안녕하세요'[-5])"
   ]
  },
  {
   "cell_type": "code",
   "execution_count": 33,
   "id": "74499d97",
   "metadata": {},
   "outputs": [
    {
     "name": "stdout",
     "output_type": "stream",
     "text": [
      "녕하세\n",
      "녕하세요\n",
      "안녕하\n",
      "안녕하세요\n"
     ]
    }
   ],
   "source": [
    "#문자열에서의 슬라이싱(문자열에서 여러글자 선택)\n",
    "print('안녕하세요'[1:4]) #[시작: 미만]\n",
    "print('안녕하세요'[1:])\n",
    "print('안녕하세요'[:3])\n",
    "print('안녕하세요'[:])"
   ]
  },
  {
   "cell_type": "code",
   "execution_count": 34,
   "id": "a6edce3b",
   "metadata": {},
   "outputs": [
    {
     "ename": "IndexError",
     "evalue": "string index out of range",
     "output_type": "error",
     "traceback": [
      "\u001b[1;31m-----------------------------------------------------------------------\u001b[0m",
      "\u001b[1;31mIndexError\u001b[0m                            Traceback (most recent call last)",
      "\u001b[1;32m~\\AppData\\Local\\Temp/ipykernel_5132/2417684897.py\u001b[0m in \u001b[0;36m<module>\u001b[1;34m\u001b[0m\n\u001b[0;32m      1\u001b[0m \u001b[1;31m#인덱싱에서 자주 등장하는 에러\u001b[0m\u001b[1;33m\u001b[0m\u001b[1;33m\u001b[0m\u001b[0m\n\u001b[0;32m      2\u001b[0m \u001b[1;33m\u001b[0m\u001b[0m\n\u001b[1;32m----> 3\u001b[1;33m \u001b[0mprint\u001b[0m\u001b[1;33m(\u001b[0m\u001b[1;34m'안녕하세요'\u001b[0m\u001b[1;33m[\u001b[0m\u001b[1;36m9\u001b[0m\u001b[1;33m]\u001b[0m\u001b[1;33m)\u001b[0m\u001b[1;33m\u001b[0m\u001b[1;33m\u001b[0m\u001b[0m\n\u001b[0m",
      "\u001b[1;31mIndexError\u001b[0m: string index out of range"
     ]
    }
   ],
   "source": [
    "#인덱싱에서 자주 등장하는 에러\n",
    "\n",
    "print('안녕하세요'[9])"
   ]
  },
  {
   "cell_type": "code",
   "execution_count": null,
   "id": "c61012f9",
   "metadata": {},
   "outputs": [],
   "source": [
    "#문자열의 길이 구하기\n",
    "print(len('안녕하세요')) #길이는 1에서 시작한다.\n"
   ]
  },
  {
   "cell_type": "code",
   "execution_count": 1,
   "id": "641b08ff",
   "metadata": {},
   "outputs": [
    {
     "name": "stdout",
     "output_type": "stream",
     "text": [
      "5\n"
     ]
    }
   ],
   "source": [
    "print(len(\"안녕하세요\"))"
   ]
  },
  {
   "cell_type": "code",
   "execution_count": null,
   "id": "2cbc6e15",
   "metadata": {},
   "outputs": [],
   "source": []
  },
  {
   "cell_type": "code",
   "execution_count": null,
   "id": "16117a22",
   "metadata": {},
   "outputs": [],
   "source": []
  },
  {
   "cell_type": "code",
   "execution_count": null,
   "id": "75bc9a70",
   "metadata": {},
   "outputs": [],
   "source": []
  }
 ],
 "metadata": {
  "kernelspec": {
   "display_name": "Python 3 (ipykernel)",
   "language": "python",
   "name": "python3"
  },
  "language_info": {
   "codemirror_mode": {
    "name": "ipython",
    "version": 3
   },
   "file_extension": ".py",
   "mimetype": "text/x-python",
   "name": "python",
   "nbconvert_exporter": "python",
   "pygments_lexer": "ipython3",
   "version": "3.9.7"
  }
 },
 "nbformat": 4,
 "nbformat_minor": 5
}
